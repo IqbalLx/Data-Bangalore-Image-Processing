{
  "nbformat": 4,
  "nbformat_minor": 0,
  "metadata": {
    "colab": {
      "name": "model_deployment_prepare.ipynb",
      "provenance": [],
      "authorship_tag": "ABX9TyPSbmCadAA69Vsme9L0CaMB",
      "include_colab_link": true
    },
    "kernelspec": {
      "name": "python3",
      "display_name": "Python 3"
    },
    "language_info": {
      "name": "python"
    },
    "accelerator": "GPU"
  },
  "cells": [
    {
      "cell_type": "markdown",
      "metadata": {
        "id": "view-in-github",
        "colab_type": "text"
      },
      "source": [
        "<a href=\"https://colab.research.google.com/github/IqbalLx/Data-Bangalore-Image-Processing/blob/main/model_deployment_prepare.ipynb\" target=\"_parent\"><img src=\"https://colab.research.google.com/assets/colab-badge.svg\" alt=\"Open In Colab\"/></a>"
      ]
    },
    {
      "cell_type": "code",
      "execution_count": 1,
      "metadata": {
        "id": "d408MQu6Dw7Z"
      },
      "outputs": [],
      "source": [
        "import numpy as np\n",
        "import tensorflow as tf\n",
        "from matplotlib import pyplot as plt"
      ]
    },
    {
      "cell_type": "markdown",
      "source": [
        "## Utils"
      ],
      "metadata": {
        "id": "eEHJ5P8DkfcB"
      }
    },
    {
      "cell_type": "code",
      "source": [
        "def visualize_metrics(hist):\n",
        "  plt.figure(figsize=(12, 5))\n",
        "\n",
        "  plt.subplot(121)\n",
        "  plt.plot(hist.epoch, hist.history['loss'], label='Loss')\n",
        "  plt.plot(hist.epoch, hist.history['val_loss'], label='Val Loss', color='orange')\n",
        "  plt.legend()\n",
        "\n",
        "  plt.subplot(122)\n",
        "  plt.plot(hist.epoch, hist.history['accuracy'], label='Acc')\n",
        "  plt.plot(hist.epoch, hist.history['val_accuracy'], label='Val Acc', color='orange')\n",
        "  plt.legend()\n",
        "\n",
        "  return plt.show()"
      ],
      "metadata": {
        "id": "tN35ExS3Jq6n"
      },
      "execution_count": 2,
      "outputs": []
    },
    {
      "cell_type": "markdown",
      "source": [
        "# Create Model"
      ],
      "metadata": {
        "id": "kQtTplqjkRh7"
      }
    },
    {
      "cell_type": "code",
      "source": [
        "mnist = tf.keras.datasets.mnist\n",
        "\n",
        "(training_images, training_labels), (test_images, test_labels) = mnist.load_data()"
      ],
      "metadata": {
        "colab": {
          "base_uri": "https://localhost:8080/"
        },
        "id": "v1qImmbJJuGx",
        "outputId": "fc3d3257-5dda-4486-9be2-f7d4226d8096"
      },
      "execution_count": 3,
      "outputs": [
        {
          "output_type": "stream",
          "name": "stdout",
          "text": [
            "Downloading data from https://storage.googleapis.com/tensorflow/tf-keras-datasets/mnist.npz\n",
            "11493376/11490434 [==============================] - 0s 0us/step\n",
            "11501568/11490434 [==============================] - 0s 0us/step\n"
          ]
        }
      ]
    },
    {
      "cell_type": "code",
      "source": [
        "training_images = training_images / 255.0\n",
        "test_images = test_images / 255."
      ],
      "metadata": {
        "id": "cXBR8yuSmMdZ"
      },
      "execution_count": 4,
      "outputs": []
    },
    {
      "cell_type": "code",
      "source": [
        "model = tf.keras.models.Sequential([\n",
        "  tf.keras.layers.InputLayer(input_shape=(28, 28, 1)),\n",
        "  tf.keras.layers.Conv2D(8, (3,3), activation='relu'),\n",
        "  tf.keras.layers.MaxPooling2D(2, 2),\n",
        "  tf.keras.layers.Flatten(),\n",
        "  tf.keras.layers.Dense(16, activation=\"relu\"),\n",
        "  tf.keras.layers.Dropout(0.5),\n",
        "  tf.keras.layers.Dense(10, activation=\"softmax\")\n",
        "  ])\n",
        "\n",
        "model.compile(\n",
        "    optimizer=tf.keras.optimizers.Adam(1e-3),\n",
        "    loss=\"sparse_categorical_crossentropy\",\n",
        "    metrics=[\"accuracy\"]\n",
        ")\n",
        "\n",
        "model.summary()"
      ],
      "metadata": {
        "colab": {
          "base_uri": "https://localhost:8080/"
        },
        "id": "pOL3KYJSJ0aF",
        "outputId": "b26468a9-e7da-46fe-f6ca-83589125d7d6"
      },
      "execution_count": 5,
      "outputs": [
        {
          "output_type": "stream",
          "name": "stdout",
          "text": [
            "Model: \"sequential\"\n",
            "_________________________________________________________________\n",
            " Layer (type)                Output Shape              Param #   \n",
            "=================================================================\n",
            " conv2d (Conv2D)             (None, 26, 26, 8)         80        \n",
            "                                                                 \n",
            " max_pooling2d (MaxPooling2D  (None, 13, 13, 8)        0         \n",
            " )                                                               \n",
            "                                                                 \n",
            " flatten (Flatten)           (None, 1352)              0         \n",
            "                                                                 \n",
            " dense (Dense)               (None, 16)                21648     \n",
            "                                                                 \n",
            " dropout (Dropout)           (None, 16)                0         \n",
            "                                                                 \n",
            " dense_1 (Dense)             (None, 10)                170       \n",
            "                                                                 \n",
            "=================================================================\n",
            "Total params: 21,898\n",
            "Trainable params: 21,898\n",
            "Non-trainable params: 0\n",
            "_________________________________________________________________\n"
          ]
        }
      ]
    },
    {
      "cell_type": "code",
      "source": [
        "early_stop = tf.keras.callbacks.EarlyStopping(monitor=\"val_accuracy\", min_delta=1e-2, patience=10, verbose=1, restore_best_weights=True)"
      ],
      "metadata": {
        "id": "R3MzOp1iKYmL"
      },
      "execution_count": 6,
      "outputs": []
    },
    {
      "cell_type": "code",
      "source": [
        "hist = model.fit(\n",
        "    training_images, \n",
        "    training_labels, \n",
        "    batch_size=64, \n",
        "    validation_split=0.2, \n",
        "    epochs=100,\n",
        "    callbacks=[early_stop]\n",
        ")"
      ],
      "metadata": {
        "colab": {
          "base_uri": "https://localhost:8080/"
        },
        "id": "Xqvwi-gTKo7X",
        "outputId": "a77a1604-ee24-40b2-c8e6-9354b7182334"
      },
      "execution_count": 7,
      "outputs": [
        {
          "output_type": "stream",
          "name": "stdout",
          "text": [
            "Epoch 1/100\n",
            "750/750 [==============================] - 19s 9ms/step - loss: 1.2245 - accuracy: 0.5452 - val_loss: 0.3716 - val_accuracy: 0.9277\n",
            "Epoch 2/100\n",
            "750/750 [==============================] - 6s 8ms/step - loss: 0.9123 - accuracy: 0.6424 - val_loss: 0.2520 - val_accuracy: 0.9518\n",
            "Epoch 3/100\n",
            "750/750 [==============================] - 6s 8ms/step - loss: 0.8427 - accuracy: 0.6683 - val_loss: 0.2145 - val_accuracy: 0.9578\n",
            "Epoch 4/100\n",
            "750/750 [==============================] - 4s 5ms/step - loss: 0.8063 - accuracy: 0.6834 - val_loss: 0.1786 - val_accuracy: 0.9613\n",
            "Epoch 5/100\n",
            "750/750 [==============================] - 4s 5ms/step - loss: 0.7865 - accuracy: 0.6984 - val_loss: 0.1752 - val_accuracy: 0.9623\n",
            "Epoch 6/100\n",
            "750/750 [==============================] - 4s 5ms/step - loss: 0.7609 - accuracy: 0.7089 - val_loss: 0.1621 - val_accuracy: 0.9638\n",
            "Epoch 7/100\n",
            "750/750 [==============================] - 4s 5ms/step - loss: 0.7481 - accuracy: 0.7180 - val_loss: 0.1616 - val_accuracy: 0.9632\n",
            "Epoch 8/100\n",
            "750/750 [==============================] - 4s 5ms/step - loss: 0.7366 - accuracy: 0.7221 - val_loss: 0.1562 - val_accuracy: 0.9635\n",
            "Epoch 9/100\n",
            "750/750 [==============================] - 4s 5ms/step - loss: 0.7287 - accuracy: 0.7294 - val_loss: 0.1493 - val_accuracy: 0.9652\n",
            "Epoch 10/100\n",
            "750/750 [==============================] - 4s 5ms/step - loss: 0.7224 - accuracy: 0.7308 - val_loss: 0.1566 - val_accuracy: 0.9631\n",
            "Epoch 11/100\n",
            "750/750 [==============================] - 4s 5ms/step - loss: 0.7178 - accuracy: 0.7370 - val_loss: 0.1519 - val_accuracy: 0.9657\n",
            "Epoch 12/100\n",
            "750/750 [==============================] - 4s 5ms/step - loss: 0.7127 - accuracy: 0.7391 - val_loss: 0.1523 - val_accuracy: 0.9671\n",
            "Epoch 13/100\n",
            "750/750 [==============================] - 4s 5ms/step - loss: 0.7025 - accuracy: 0.7456 - val_loss: 0.1557 - val_accuracy: 0.9669\n",
            "Epoch 14/100\n",
            "750/750 [==============================] - 4s 5ms/step - loss: 0.6995 - accuracy: 0.7459 - val_loss: 0.1612 - val_accuracy: 0.9663\n",
            "Epoch 15/100\n",
            "745/750 [============================>.] - ETA: 0s - loss: 0.6912 - accuracy: 0.7493Restoring model weights from the end of the best epoch: 5.\n",
            "750/750 [==============================] - 4s 6ms/step - loss: 0.6906 - accuracy: 0.7496 - val_loss: 0.1403 - val_accuracy: 0.9682\n",
            "Epoch 15: early stopping\n"
          ]
        }
      ]
    },
    {
      "cell_type": "code",
      "source": [
        "visualize_metrics(hist)"
      ],
      "metadata": {
        "colab": {
          "base_uri": "https://localhost:8080/",
          "height": 320
        },
        "id": "N-NqYOcPLoBk",
        "outputId": "2abf73ec-4bf8-44b5-ce25-3ea0162dd5b7"
      },
      "execution_count": 8,
      "outputs": [
        {
          "output_type": "display_data",
          "data": {
            "text/plain": [
              "<Figure size 864x360 with 2 Axes>"
            ],
            "image/png": "[encoded data removed]"
          },
          "metadata": {
            "needs_background": "light"
          }
        }
      ]
    },
    {
      "cell_type": "code",
      "source": [
        "test_image = test_images[4]\n",
        "\n",
        "print(test_labels[4])"
      ],
      "metadata": {
        "colab": {
          "base_uri": "https://localhost:8080/"
        },
        "id": "SWDNacjGljKm",
        "outputId": "1058878f-e5be-478f-bf99-a68cfff18052"
      },
      "execution_count": 15,
      "outputs": [
        {
          "output_type": "stream",
          "name": "stdout",
          "text": [
            "4\n"
          ]
        }
      ]
    },
    {
      "cell_type": "code",
      "source": [
        "test_image = np.expand_dims(test_image, axis=-1)\n",
        "test_image = np.expand_dims(test_image, axis=0)\n",
        "\n",
        "print(test_image.shape)"
      ],
      "metadata": {
        "colab": {
          "base_uri": "https://localhost:8080/"
        },
        "id": "8eEJ87Lplowz",
        "outputId": "0112b501-0d5a-41bf-e00d-f7a15d228408"
      },
      "execution_count": 16,
      "outputs": [
        {
          "output_type": "stream",
          "name": "stdout",
          "text": [
            "(1, 28, 28, 1)\n"
          ]
        }
      ]
    },
    {
      "cell_type": "code",
      "source": [
        "out = model.predict(test_image)\n",
        "max_index = np.argmax(out[0])\n",
        "\n",
        "print(f\"Predicted {max_index} with confidency {out[0][max_index] * 100:.2f}%\")"
      ],
      "metadata": {
        "colab": {
          "base_uri": "https://localhost:8080/"
        },
        "id": "ANAGfwaNnJ19",
        "outputId": "830a6322-dd21-433c-d039-5eda852d8b95"
      },
      "execution_count": 17,
      "outputs": [
        {
          "output_type": "stream",
          "name": "stdout",
          "text": [
            "Predicted 4 with confidency 98.39%\n"
          ]
        }
      ]
    },
    {
      "cell_type": "code",
      "source": [
        "model.save(\"mnist_raw.h5\")"
      ],
      "metadata": {
        "id": "eYHVTOk1PW4g"
      },
      "execution_count": 14,
      "outputs": []
    },
    {
      "cell_type": "markdown",
      "source": [
        "# Convert Model into "
      ],
      "metadata": {
        "id": "07qT0tVrleal"
      }
    },
    {
      "cell_type": "code",
      "source": [
        "from typing import Callable, Tuple\n",
        "\n",
        "class ServingInputReceiver:\n",
        "    \"\"\"\n",
        "    A callable object that returns a \n",
        "    `tf.estimator.export.ServingInputReceiver` \n",
        "    object that provides a method to convert \n",
        "    `image_bytes` input to model.input\n",
        "    \"\"\"\n",
        "    def __init__(\n",
        "        self, img_size: Tuple[int], \n",
        "        preprocess_fn: Callable = None, \n",
        "        input_name: str = \"input_1\"):\n",
        "        \n",
        "        self.img_size = img_size[:2]\n",
        "        self.channel = img_size[-1]\n",
        "        self.preprocess_fn = preprocess_fn\n",
        "        self.input_name = input_name\n",
        "        \n",
        "    def decode_img_bytes(self, img_b64: str) -> tf.Tensor:\n",
        "        \"\"\"\n",
        "        Decodes a base64 encoded bytes and converts it to a Tensor.\n",
        "        Args:\n",
        "            img_bytes (str): base64 encoded bytes of an image file\n",
        "        Returns:\n",
        "            img (Tensor): a tensor of shape (width, height, 3)\n",
        "        \"\"\"\n",
        "        img = tf.io.decode_image(\n",
        "            img_b64, \n",
        "            channels=self.channel,\n",
        "            dtype=tf.uint8,\n",
        "            expand_animations=False\n",
        "        )\n",
        "        img = tf.image.resize(img, size=self.img_size)\n",
        "        img = tf.ensure_shape(img, (*self.img_size, self.channel))\n",
        "        img = tf.cast(img, tf.float32)\n",
        "        return img\n",
        "    \n",
        "    def __call__(self) -> tf.estimator.export.ServingInputReceiver:\n",
        "        # a placeholder for a batch of base64 string encoded of image bytes\n",
        "        imgs_b64 = tf.compat.v1.placeholder(\n",
        "            shape=(None,), \n",
        "            dtype=tf.string, \n",
        "            name=\"image_bytes\")\n",
        "        \n",
        "        # apply self.decode_img_bytes() to a batch of image bytes (imgs_b64)\n",
        "        imgs = tf.map_fn(\n",
        "            self.decode_img_bytes, \n",
        "            imgs_b64, \n",
        "            dtype=tf.float32)\n",
        "        \n",
        "        # apply preprocess_fn if applicable\n",
        "        if self.preprocess_fn:\n",
        "            imgs = self.preprocess_fn(imgs)\n",
        "        \n",
        "        return tf.estimator.export.ServingInputReceiver(\n",
        "            features={self.input_name: imgs},\n",
        "            receiver_tensors={\"image_bytes\": imgs_b64}\n",
        "        )"
      ],
      "metadata": {
        "id": "F1eh33_HbDro"
      },
      "execution_count": 62,
      "outputs": []
    },
    {
      "cell_type": "code",
      "source": [
        "def preprocessing(image):\n",
        "  return image / 255"
      ],
      "metadata": {
        "id": "uo46oZLYbF9x"
      },
      "execution_count": 63,
      "outputs": []
    },
    {
      "cell_type": "code",
      "source": [
        "serving_input_receiver = ServingInputReceiver(\n",
        "    img_size=(28, 28, 1),\n",
        "    preprocess_fn=preprocessing,\n",
        "    input_name=model.input_names[0])"
      ],
      "metadata": {
        "id": "qtW5z4P1bKgx"
      },
      "execution_count": 75,
      "outputs": []
    },
    {
      "cell_type": "code",
      "source": [
        "estimator_save_dir = \"/content/estimators/mnist_estimator\"\n",
        "estimator = tf.keras.estimator.model_to_estimator(\n",
        "    keras_model=model,\n",
        "    )\n",
        "\n",
        "export_model_dir = \"/content/mnist_serving/\"  # this is where the exported model will end up. \n",
        "estimator.export_saved_model(\n",
        "    export_dir_base=export_model_dir,\n",
        "    serving_input_receiver_fn=serving_input_receiver)"
      ],
      "metadata": {
        "colab": {
          "base_uri": "https://localhost:8080/"
        },
        "id": "m-F9RKt0bw0s",
        "outputId": "a25ab13b-2b2f-4a59-dde2-d23b46264987"
      },
      "execution_count": 76,
      "outputs": [
        {
          "output_type": "stream",
          "name": "stdout",
          "text": [
            "INFO:tensorflow:Using default config.\n",
            "WARNING:tensorflow:Using temporary folder as model directory: /tmp/tmpo82tv0nc\n",
            "INFO:tensorflow:Using the Keras model provided.\n"
          ]
        },
        {
          "output_type": "stream",
          "name": "stderr",
          "text": [
            "/usr/local/lib/python3.7/dist-packages/keras/backend.py:450: UserWarning: `tf.keras.backend.set_learning_phase` is deprecated and will be removed after 2020-10-11. To update it, simply pass a True/False value to the `training` argument of the `__call__` method of your layer or model.\n",
            "  warnings.warn('`tf.keras.backend.set_learning_phase` is deprecated and '\n"
          ]
        },
        {
          "output_type": "stream",
          "name": "stdout",
          "text": [
            "INFO:tensorflow:Using config: {'_model_dir': '/tmp/tmpo82tv0nc', '_tf_random_seed': None, '_save_summary_steps': 100, '_save_checkpoints_steps': None, '_save_checkpoints_secs': 600, '_session_config': allow_soft_placement: true\n",
            "graph_options {\n",
            "  rewrite_options {\n",
            "    meta_optimizer_iterations: ONE\n",
            "  }\n",
            "}\n",
            ", '_keep_checkpoint_max': 5, '_keep_checkpoint_every_n_hours': 10000, '_log_step_count_steps': 100, '_train_distribute': None, '_device_fn': None, '_protocol': None, '_eval_distribute': None, '_experimental_distribute': None, '_experimental_max_worker_delay_secs': None, '_session_creation_timeout_secs': 7200, '_checkpoint_save_graph_def': True, '_service': None, '_cluster_spec': ClusterSpec({}), '_task_type': 'worker', '_task_id': 0, '_global_id_in_cluster': 0, '_master': '', '_evaluation_master': '', '_is_chief': True, '_num_ps_replicas': 0, '_num_worker_replicas': 1}\n",
            "INFO:tensorflow:Calling model_fn.\n",
            "INFO:tensorflow:Done calling model_fn.\n",
            "INFO:tensorflow:Signatures INCLUDED in export for Classify: None\n",
            "INFO:tensorflow:Signatures INCLUDED in export for Regress: None\n",
            "INFO:tensorflow:Signatures INCLUDED in export for Predict: ['serving_default']\n",
            "INFO:tensorflow:Signatures INCLUDED in export for Train: None\n",
            "INFO:tensorflow:Signatures INCLUDED in export for Eval: None\n",
            "INFO:tensorflow:Restoring parameters from /tmp/tmpo82tv0nc/keras/keras_model.ckpt\n",
            "INFO:tensorflow:Assets added to graph.\n",
            "INFO:tensorflow:No assets to write.\n",
            "INFO:tensorflow:SavedModel written to: /content/mnist_serving/temp-1647768417/saved_model.pb\n"
          ]
        },
        {
          "output_type": "execute_result",
          "data": {
            "text/plain": [
              "b'/content/mnist_serving/1647768417'"
            ]
          },
          "metadata": {},
          "execution_count": 76
        }
      ]
    },
    {
      "cell_type": "code",
      "source": [
        "!tar cvzf mnist_serving.tar.gz mnist_serving"
      ],
      "metadata": {
        "colab": {
          "base_uri": "https://localhost:8080/"
        },
        "id": "pLPI2oTegNl6",
        "outputId": "14570981-ed35-4b0a-c9e4-6c94aa9a32c4"
      },
      "execution_count": 77,
      "outputs": [
        {
          "output_type": "stream",
          "name": "stdout",
          "text": [
            "mnist_serving/\n",
            "mnist_serving/temp-1647768387/\n",
            "mnist_serving/1647768417/\n",
            "mnist_serving/1647768417/saved_model.pb\n",
            "mnist_serving/1647768417/variables/\n",
            "mnist_serving/1647768417/variables/variables.index\n",
            "mnist_serving/1647768417/variables/variables.data-00001-of-00002\n",
            "mnist_serving/1647768417/variables/variables.data-00000-of-00002\n"
          ]
        }
      ]
    },
    {
      "cell_type": "markdown",
      "source": [
        "# Convert img to Base64"
      ],
      "metadata": {
        "id": "19Xp2A-Ep3PX"
      }
    },
    {
      "cell_type": "code",
      "source": [
        "!pip3 install opencv-python"
      ],
      "metadata": {
        "colab": {
          "base_uri": "https://localhost:8080/"
        },
        "id": "_R4b9UZcPzh2",
        "outputId": "71c1fe19-fea2-4ebd-f46b-d2278ab42d5a"
      },
      "execution_count": 23,
      "outputs": [
        {
          "output_type": "stream",
          "name": "stdout",
          "text": [
            "Requirement already satisfied: opencv-python in /usr/local/lib/python3.7/dist-packages (4.1.2.30)\n",
            "Requirement already satisfied: numpy>=1.14.5 in /usr/local/lib/python3.7/dist-packages (from opencv-python) (1.21.5)\n"
          ]
        }
      ]
    },
    {
      "cell_type": "code",
      "source": [
        "from cv2 import imencode\n",
        "from base64 import b64encode\n",
        "def encode_to_base64(image):\n",
        "  _, jpg_buffer = imencode(\".jpg\", image)\n",
        "  return b64encode(jpg_buffer).decode(\"utf8\")\n"
      ],
      "metadata": {
        "id": "GUtp42oRWuMY"
      },
      "execution_count": 78,
      "outputs": []
    },
    {
      "cell_type": "code",
      "source": [
        "mnist = tf.keras.datasets.mnist\n",
        "\n",
        "(training_images, training_labels), (test_images, test_labels) = mnist.load_data()"
      ],
      "metadata": {
        "id": "Rvn7tsJIq38u"
      },
      "execution_count": 81,
      "outputs": []
    },
    {
      "cell_type": "code",
      "source": [
        "test_img = test_images[4]\n",
        "test_lbl = test_labels[4]\n",
        "\n",
        "print(test_lbl)"
      ],
      "metadata": {
        "colab": {
          "base_uri": "https://localhost:8080/"
        },
        "id": "aj1LKsStWWZH",
        "outputId": "68185c95-77a7-45c0-f0b3-a1b20c695e59"
      },
      "execution_count": 88,
      "outputs": [
        {
          "output_type": "stream",
          "name": "stdout",
          "text": [
            "4\n"
          ]
        }
      ]
    },
    {
      "cell_type": "code",
      "source": [
        "plt.imshow(test_img)"
      ],
      "metadata": {
        "colab": {
          "base_uri": "https://localhost:8080/",
          "height": 282
        },
        "id": "3Onnh6kEr0wO",
        "outputId": "8e6593f4-0426-4d76-a827-5158e1429140"
      },
      "execution_count": 89,
      "outputs": [
        {
          "output_type": "execute_result",
          "data": {
            "text/plain": [
              "<matplotlib.image.AxesImage at 0x7f96b37e0dd0>"
            ]
          },
          "metadata": {},
          "execution_count": 89
        },
        {
          "output_type": "display_data",
          "data": {
            "text/plain": [
              "<Figure size 432x288 with 1 Axes>"
            ],
            "image/png": "[encoded data removed]"
          },
          "metadata": {
            "needs_background": "light"
          }
        }
      ]
    },
    {
      "cell_type": "code",
      "source": [
        "encode_to_base64(test_img)"
      ],
      "metadata": {
        "colab": {
          "base_uri": "https://localhost:8080/",
          "height": 122
        },
        "id": "PliGNAUKWjm-",
        "outputId": "6a2d6b2c-5cf4-4284-bafb-67d45ce960e7"
      },
      "execution_count": 90,
      "outputs": [
        {
          "output_type": "execute_result",
          "data": {
            "text/plain": [
              "'/9j/4AAQSkZJRgABAQAAAQABAAD/2wBDAAIBAQEBAQIBAQECAgICAgQDAgICAgUEBAMEBgUGBgYFBgYGBwkIBgcJBwYGCAsICQoKCgoKBggLDAsKDAkKCgr/wAALCAAcABwBAREA/8QAHwAAAQUBAQEBAQEAAAAAAAAAAAECAwQFBgcICQoL/8QAtRAAAgEDAwIEAwUFBAQAAAF9AQIDAAQRBRIhMUEGE1FhByJxFDKBkaEII0KxwRVS0fAkM2JyggkKFhcYGRolJicoKSo0NTY3ODk6Q0RFRkdISUpTVFVWV1hZWmNkZWZnaGlqc3R1dnd4eXqDhIWGh4iJipKTlJWWl5iZmqKjpKWmp6ipqrKztLW2t7i5usLDxMXGx8jJytLT1NXW19jZ2uHi4+Tl5ufo6erx8vP09fb3+Pn6/9oACAEBAAA/AP5/69C8efszfEz4b/s7fD79pzxRHZxeHPibqmuWXhaNZXNzJ/ZT2iXMzqUCiIyXaohVmJaGXIUBS2XH8EPiHP8AAib9pC30yGTwpbeLI/Dd1eJdIZINQktmuYkeLO4K8UcpV8bSYnGcjnka739lb4Lx/tH/ALTnw7/Z8m1xNMj8ceONK0GTUpHVRard3cUBly3A2iQnnjivd/8AgtF8c9H+In7bWvfAj4W6NNoXww+B8kngD4Z+F2t/JSxstPkaG4uCm1SZbq6We6eRx5rGZQ5yoA9e/bX+Hug/sQ/8ENv2fv2ZtR0fz/Gv7QPjGT4x+Ir6VSj6dpsNibHS7QKQCySQ3bzAkYD+bgkMK/O2rvhvxHr3g7xFYeLvCur3Gn6ppV7Feabf2kpSW2uInDxyow5VlZQwI6ECvsXWP+C+/wDwUX19P7V1nXPhrd+JisXm+Ob74L+HbnWpnjCqJZLmayYvIUUIXYEkE9+a9/8A+Ds74gan4x/bM+C2k67qf/E1039mzQG8Q6TG6xx6ZqU95qEk0TWygC2l2+UWQgHYYhtAUZ/K6iir/inxX4o8c+Irzxf418SX+satqM7T6hqmqXj3Fxcynq8kkhLOx7kkmqFf/9k='"
            ],
            "application/vnd.google.colaboratory.intrinsic+json": {
              "type": "string"
            }
          },
          "metadata": {},
          "execution_count": 90
        }
      ]
    },
    {
      "cell_type": "code",
      "source": [
        ""
      ],
      "metadata": {
        "id": "LUXZYYRKj_YD"
      },
      "execution_count": null,
      "outputs": []
    }
  ]
}