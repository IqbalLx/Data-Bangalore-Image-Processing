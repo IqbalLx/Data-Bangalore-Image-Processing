{
  "nbformat": 4,
  "nbformat_minor": 0,
  "metadata": {
    "colab": {
      "name": "computer_vision_deep_dive.ipynb",
      "provenance": [],
      "authorship_tag": "ABX9TyP77+paAzgq8iel3FzYzBqi",
      "include_colab_link": true
    },
    "kernelspec": {
      "name": "python3",
      "display_name": "Python 3"
    },
    "language_info": {
      "name": "python"
    },
    "accelerator": "GPU"
  },
  "cells": [
    {
      "cell_type": "markdown",
      "metadata": {
        "id": "view-in-github",
        "colab_type": "text"
      },
      "source": [
        "<a href=\"https://colab.research.google.com/github/IqbalLx/Data-Bangalore-Image-Processing/blob/main/computer_vision_deep_dive.ipynb\" target=\"_parent\"><img src=\"https://colab.research.google.com/assets/colab-badge.svg\" alt=\"Open In Colab\"/></a>"
      ]
    },
    {
      "cell_type": "code",
      "execution_count": 2,
      "metadata": {
        "id": "pYg7ruAompeO"
      },
      "outputs": [],
      "source": [
        "import numpy as np\n",
        "import tensorflow as tf\n",
        "from matplotlib import pyplot as plt"
      ]
    },
    {
      "cell_type": "code",
      "source": [
        "print(tf.__version__)"
      ],
      "metadata": {
        "colab": {
          "base_uri": "https://localhost:8080/"
        },
        "id": "4gq0LrQEm2mj",
        "outputId": "63cf4479-88d5-481a-894a-7c055b2993ad"
      },
      "execution_count": 3,
      "outputs": [
        {
          "output_type": "stream",
          "name": "stdout",
          "text": [
            "2.8.0\n"
          ]
        }
      ]
    },
    {
      "cell_type": "markdown",
      "source": [
        "## Utils"
      ],
      "metadata": {
        "id": "zbALgp06yBsF"
      }
    },
    {
      "cell_type": "code",
      "source": [
        "def visualize_metrics(hist):\n",
        "  plt.figure(figsize=(12, 5))\n",
        "\n",
        "  plt.subplot(121)\n",
        "  plt.plot(hist.epoch, hist.history['loss'], label='Loss')\n",
        "  plt.plot(hist.epoch, hist.history['val_loss'], label='Val Loss', color='orange')\n",
        "  plt.legend()\n",
        "\n",
        "  plt.subplot(122)\n",
        "  plt.plot(hist.epoch, hist.history['accuracy'], label='Acc')\n",
        "  plt.plot(hist.epoch, hist.history['val_accuracy'], label='Val Acc', color='orange')\n",
        "  plt.legend()\n",
        "\n",
        "  return plt.show()"
      ],
      "metadata": {
        "id": "1IvT0CiVyDn9"
      },
      "execution_count": 4,
      "outputs": []
    },
    {
      "cell_type": "code",
      "source": [
        "def visualize_learning_rate(hist):\n",
        "  plt.figure(figsize=(12, 5))\n",
        "\n",
        "  plt.plot(hist.epoch, hist.history['lr'], label='Learning Rate')\n",
        "  plt.legend()\n",
        "\n",
        "  return plt.show()"
      ],
      "metadata": {
        "id": "fuinuhfYWDK2"
      },
      "execution_count": 30,
      "outputs": []
    },
    {
      "cell_type": "markdown",
      "source": [
        "# What is Neural Network?\n",
        "\n",
        "In general, neural network trying to mimic human brain behaviour, which is able to learn. let's see how the learning works"
      ],
      "metadata": {
        "id": "Q_cQG8O9nLxA"
      }
    },
    {
      "cell_type": "code",
      "source": [
        "def simple_func(x):\n",
        "  noise = np.random.normal(0,1,1)[0]\n",
        "  return 2 * x - 1 + noise"
      ],
      "metadata": {
        "id": "Gj0-TYSmnEwo"
      },
      "execution_count": 80,
      "outputs": []
    },
    {
      "cell_type": "code",
      "source": [
        "X = np.random.randint(low=1, high=10, size=1000)\n",
        "y = np.array([simple_func(x) for x in X], dtype=\"float32\")"
      ],
      "metadata": {
        "id": "LUiOVQGGn0jn"
      },
      "execution_count": 81,
      "outputs": []
    },
    {
      "cell_type": "code",
      "source": [
        "plt.scatter(X, y)\n",
        "plt.show()"
      ],
      "metadata": {
        "colab": {
          "base_uri": "https://localhost:8080/",
          "height": 269
        },
        "id": "mmkK00gnqREd",
        "outputId": "f3325e15-0c50-469d-af31-caea1bae8031"
      },
      "execution_count": 82,
      "outputs": [
        {
          "output_type": "display_data",
          "data": {
            "text/plain": [
              "<Figure size 432x288 with 1 Axes>"
            ],
            "image/png": "[encoded data removed]"
          },
          "metadata": {
            "needs_background": "light"
          }
        }
      ]
    },
    {
      "cell_type": "code",
      "source": [
        "model = tf.keras.Sequential([tf.keras.layers.Dense(units=1, input_shape=[1])])\n",
        "model.compile(optimizer=\"sgd\", loss='mean_squared_error')\n",
        "\n",
        "model.summary()"
      ],
      "metadata": {
        "colab": {
          "base_uri": "https://localhost:8080/"
        },
        "id": "-Dn0qtJJoasu",
        "outputId": "03020998-ef66-4922-a16a-2f260911111b"
      },
      "execution_count": 99,
      "outputs": [
        {
          "output_type": "stream",
          "name": "stdout",
          "text": [
            "Model: \"sequential_13\"\n",
            "_________________________________________________________________\n",
            " Layer (type)                Output Shape              Param #   \n",
            "=================================================================\n",
            " dense_14 (Dense)            (None, 1)                 2         \n",
            "                                                                 \n",
            "=================================================================\n",
            "Total params: 2\n",
            "Trainable params: 2\n",
            "Non-trainable params: 0\n",
            "_________________________________________________________________\n"
          ]
        }
      ]
    },
    {
      "cell_type": "code",
      "source": [
        "model.layers[0].weights"
      ],
      "metadata": {
        "colab": {
          "base_uri": "https://localhost:8080/"
        },
        "id": "2jf8m164trTU",
        "outputId": "af644b8a-6087-4034-9319-0147d165aeae"
      },
      "execution_count": 100,
      "outputs": [
        {
          "output_type": "execute_result",
          "data": {
            "text/plain": [
              "[<tf.Variable 'dense_14/kernel:0' shape=(1, 1) dtype=float32, numpy=array([[-0.54446423]], dtype=float32)>,\n",
              " <tf.Variable 'dense_14/bias:0' shape=(1,) dtype=float32, numpy=array([0.], dtype=float32)>]"
            ]
          },
          "metadata": {},
          "execution_count": 100
        }
      ]
    },
    {
      "cell_type": "code",
      "source": [
        "# initial guessing\n",
        "model.predict([10.0])"
      ],
      "metadata": {
        "colab": {
          "base_uri": "https://localhost:8080/"
        },
        "id": "33pl8aX8tj3F",
        "outputId": "c3ae4b15-d402-4f8b-fad8-812d9ca28f6a"
      },
      "execution_count": 101,
      "outputs": [
        {
          "output_type": "execute_result",
          "data": {
            "text/plain": [
              "array([[-5.444642]], dtype=float32)"
            ]
          },
          "metadata": {},
          "execution_count": 101
        }
      ]
    },
    {
      "cell_type": "code",
      "source": [
        "model.fit(X, y, epochs=100)"
      ],
      "metadata": {
        "colab": {
          "base_uri": "https://localhost:8080/"
        },
        "id": "_3qqGAazo3sQ",
        "outputId": "46041122-92b1-4a3d-9523-2bc8d334a1d3"
      },
      "execution_count": 102,
      "outputs": [
        {
          "output_type": "stream",
          "name": "stdout",
          "text": [
            "Epoch 1/100\n",
            "32/32 [==============================] - 0s 3ms/step - loss: 7.6353\n",
            "Epoch 2/100\n",
            "32/32 [==============================] - 0s 3ms/step - loss: 1.1893\n",
            "Epoch 3/100\n",
            "32/32 [==============================] - 0s 3ms/step - loss: 1.1282\n",
            "Epoch 4/100\n",
            "32/32 [==============================] - 0s 3ms/step - loss: 1.0884\n",
            "Epoch 5/100\n",
            "32/32 [==============================] - 0s 3ms/step - loss: 1.0588\n",
            "Epoch 6/100\n",
            "32/32 [==============================] - 0s 3ms/step - loss: 1.0271\n",
            "Epoch 7/100\n",
            "32/32 [==============================] - 0s 4ms/step - loss: 1.0081\n",
            "Epoch 8/100\n",
            "32/32 [==============================] - 0s 3ms/step - loss: 0.9963\n",
            "Epoch 9/100\n",
            "32/32 [==============================] - 0s 3ms/step - loss: 0.9870\n",
            "Epoch 10/100\n",
            "32/32 [==============================] - 0s 3ms/step - loss: 0.9882\n",
            "Epoch 11/100\n",
            "32/32 [==============================] - 0s 3ms/step - loss: 0.9622\n",
            "Epoch 12/100\n",
            "32/32 [==============================] - 0s 3ms/step - loss: 0.9756\n",
            "Epoch 13/100\n",
            "32/32 [==============================] - 0s 3ms/step - loss: 0.9735\n",
            "Epoch 14/100\n",
            "32/32 [==============================] - 0s 3ms/step - loss: 0.9632\n",
            "Epoch 15/100\n",
            "32/32 [==============================] - 0s 3ms/step - loss: 0.9616\n",
            "Epoch 16/100\n",
            "32/32 [==============================] - 0s 3ms/step - loss: 0.9560\n",
            "Epoch 17/100\n",
            "32/32 [==============================] - 0s 4ms/step - loss: 0.9616\n",
            "Epoch 18/100\n",
            "32/32 [==============================] - 0s 3ms/step - loss: 0.9610\n",
            "Epoch 19/100\n",
            "32/32 [==============================] - 0s 3ms/step - loss: 0.9540\n",
            "Epoch 20/100\n",
            "32/32 [==============================] - 0s 3ms/step - loss: 0.9733\n",
            "Epoch 21/100\n",
            "32/32 [==============================] - 0s 3ms/step - loss: 0.9626\n",
            "Epoch 22/100\n",
            "32/32 [==============================] - 0s 3ms/step - loss: 0.9573\n",
            "Epoch 23/100\n",
            "32/32 [==============================] - 0s 3ms/step - loss: 0.9544\n",
            "Epoch 24/100\n",
            "32/32 [==============================] - 0s 3ms/step - loss: 0.9624\n",
            "Epoch 25/100\n",
            "32/32 [==============================] - 0s 3ms/step - loss: 0.9673\n",
            "Epoch 26/100\n",
            "32/32 [==============================] - 0s 3ms/step - loss: 0.9548\n",
            "Epoch 27/100\n",
            "32/32 [==============================] - 0s 3ms/step - loss: 0.9690\n",
            "Epoch 28/100\n",
            "32/32 [==============================] - 0s 3ms/step - loss: 0.9496\n",
            "Epoch 29/100\n",
            "32/32 [==============================] - 0s 3ms/step - loss: 0.9592\n",
            "Epoch 30/100\n",
            "32/32 [==============================] - 0s 3ms/step - loss: 0.9561\n",
            "Epoch 31/100\n",
            "32/32 [==============================] - 0s 3ms/step - loss: 0.9609\n",
            "Epoch 32/100\n",
            "32/32 [==============================] - 0s 3ms/step - loss: 0.9719\n",
            "Epoch 33/100\n",
            "32/32 [==============================] - 0s 3ms/step - loss: 0.9544\n",
            "Epoch 34/100\n",
            "32/32 [==============================] - 0s 3ms/step - loss: 0.9539\n",
            "Epoch 35/100\n",
            "32/32 [==============================] - 0s 3ms/step - loss: 0.9774\n",
            "Epoch 36/100\n",
            "32/32 [==============================] - 0s 3ms/step - loss: 0.9532\n",
            "Epoch 37/100\n",
            "32/32 [==============================] - 0s 3ms/step - loss: 0.9629\n",
            "Epoch 38/100\n",
            "32/32 [==============================] - 0s 3ms/step - loss: 0.9592\n",
            "Epoch 39/100\n",
            "32/32 [==============================] - 0s 3ms/step - loss: 0.9508\n",
            "Epoch 40/100\n",
            "32/32 [==============================] - 0s 3ms/step - loss: 0.9768\n",
            "Epoch 41/100\n",
            "32/32 [==============================] - 0s 3ms/step - loss: 0.9608\n",
            "Epoch 42/100\n",
            "32/32 [==============================] - 0s 3ms/step - loss: 0.9603\n",
            "Epoch 43/100\n",
            "32/32 [==============================] - 0s 3ms/step - loss: 0.9698\n",
            "Epoch 44/100\n",
            "32/32 [==============================] - 0s 3ms/step - loss: 0.9579\n",
            "Epoch 45/100\n",
            "32/32 [==============================] - 0s 3ms/step - loss: 0.9745\n",
            "Epoch 46/100\n",
            "32/32 [==============================] - 0s 4ms/step - loss: 0.9623\n",
            "Epoch 47/100\n",
            "32/32 [==============================] - 0s 3ms/step - loss: 0.9453\n",
            "Epoch 48/100\n",
            "32/32 [==============================] - 0s 3ms/step - loss: 0.9584\n",
            "Epoch 49/100\n",
            "32/32 [==============================] - 0s 3ms/step - loss: 0.9649\n",
            "Epoch 50/100\n",
            "32/32 [==============================] - 0s 3ms/step - loss: 0.9519\n",
            "Epoch 51/100\n",
            "32/32 [==============================] - 0s 3ms/step - loss: 0.9680\n",
            "Epoch 52/100\n",
            "32/32 [==============================] - 0s 3ms/step - loss: 0.9607\n",
            "Epoch 53/100\n",
            "32/32 [==============================] - 0s 3ms/step - loss: 0.9484\n",
            "Epoch 54/100\n",
            "32/32 [==============================] - 0s 3ms/step - loss: 0.9626\n",
            "Epoch 55/100\n",
            "32/32 [==============================] - 0s 3ms/step - loss: 0.9675\n",
            "Epoch 56/100\n",
            "32/32 [==============================] - 0s 3ms/step - loss: 0.9627\n",
            "Epoch 57/100\n",
            "32/32 [==============================] - 0s 3ms/step - loss: 0.9465\n",
            "Epoch 58/100\n",
            "32/32 [==============================] - 0s 3ms/step - loss: 0.9610\n",
            "Epoch 59/100\n",
            "32/32 [==============================] - 0s 3ms/step - loss: 0.9484\n",
            "Epoch 60/100\n",
            "32/32 [==============================] - 0s 3ms/step - loss: 0.9547\n",
            "Epoch 61/100\n",
            "32/32 [==============================] - 0s 3ms/step - loss: 0.9692\n",
            "Epoch 62/100\n",
            "32/32 [==============================] - 0s 3ms/step - loss: 0.9547\n",
            "Epoch 63/100\n",
            "32/32 [==============================] - 0s 3ms/step - loss: 0.9743\n",
            "Epoch 64/100\n",
            "32/32 [==============================] - 0s 3ms/step - loss: 0.9685\n",
            "Epoch 65/100\n",
            "32/32 [==============================] - 0s 3ms/step - loss: 0.9599\n",
            "Epoch 66/100\n",
            "32/32 [==============================] - 0s 3ms/step - loss: 0.9558\n",
            "Epoch 67/100\n",
            "32/32 [==============================] - 0s 3ms/step - loss: 0.9512\n",
            "Epoch 68/100\n",
            "32/32 [==============================] - 0s 3ms/step - loss: 0.9596\n",
            "Epoch 69/100\n",
            "32/32 [==============================] - 0s 3ms/step - loss: 0.9518\n",
            "Epoch 70/100\n",
            "32/32 [==============================] - 0s 3ms/step - loss: 0.9529\n",
            "Epoch 71/100\n",
            "32/32 [==============================] - 0s 3ms/step - loss: 0.9554\n",
            "Epoch 72/100\n",
            "32/32 [==============================] - 0s 3ms/step - loss: 0.9712\n",
            "Epoch 73/100\n",
            "32/32 [==============================] - 0s 3ms/step - loss: 0.9564\n",
            "Epoch 74/100\n",
            "32/32 [==============================] - 0s 3ms/step - loss: 0.9657\n",
            "Epoch 75/100\n",
            "32/32 [==============================] - 0s 3ms/step - loss: 0.9603\n",
            "Epoch 76/100\n",
            "32/32 [==============================] - 0s 3ms/step - loss: 0.9596\n",
            "Epoch 77/100\n",
            "32/32 [==============================] - 0s 3ms/step - loss: 0.9608\n",
            "Epoch 78/100\n",
            "32/32 [==============================] - 0s 3ms/step - loss: 0.9565\n",
            "Epoch 79/100\n",
            "32/32 [==============================] - 0s 3ms/step - loss: 0.9534\n",
            "Epoch 80/100\n",
            "32/32 [==============================] - 0s 3ms/step - loss: 0.9519\n",
            "Epoch 81/100\n",
            "32/32 [==============================] - 0s 3ms/step - loss: 0.9636\n",
            "Epoch 82/100\n",
            "32/32 [==============================] - 0s 3ms/step - loss: 0.9556\n",
            "Epoch 83/100\n",
            "32/32 [==============================] - 0s 3ms/step - loss: 0.9562\n",
            "Epoch 84/100\n",
            "32/32 [==============================] - 0s 3ms/step - loss: 0.9538\n",
            "Epoch 85/100\n",
            "32/32 [==============================] - 0s 3ms/step - loss: 0.9584\n",
            "Epoch 86/100\n",
            "32/32 [==============================] - 0s 3ms/step - loss: 0.9629\n",
            "Epoch 87/100\n",
            "32/32 [==============================] - 0s 3ms/step - loss: 0.9526\n",
            "Epoch 88/100\n",
            "32/32 [==============================] - 0s 3ms/step - loss: 0.9608\n",
            "Epoch 89/100\n",
            "32/32 [==============================] - 0s 3ms/step - loss: 0.9536\n",
            "Epoch 90/100\n",
            "32/32 [==============================] - 0s 3ms/step - loss: 0.9579\n",
            "Epoch 91/100\n",
            "32/32 [==============================] - 0s 3ms/step - loss: 0.9593\n",
            "Epoch 92/100\n",
            "32/32 [==============================] - 0s 3ms/step - loss: 0.9697\n",
            "Epoch 93/100\n",
            "32/32 [==============================] - 0s 3ms/step - loss: 0.9608\n",
            "Epoch 94/100\n",
            "32/32 [==============================] - 0s 3ms/step - loss: 0.9666\n",
            "Epoch 95/100\n",
            "32/32 [==============================] - 0s 3ms/step - loss: 0.9564\n",
            "Epoch 96/100\n",
            "32/32 [==============================] - 0s 3ms/step - loss: 1.0003\n",
            "Epoch 97/100\n",
            "32/32 [==============================] - 0s 3ms/step - loss: 0.9597\n",
            "Epoch 98/100\n",
            "32/32 [==============================] - 0s 3ms/step - loss: 0.9581\n",
            "Epoch 99/100\n",
            "32/32 [==============================] - 0s 3ms/step - loss: 0.9604\n",
            "Epoch 100/100\n",
            "32/32 [==============================] - 0s 3ms/step - loss: 0.9738\n"
          ]
        },
        {
          "output_type": "execute_result",
          "data": {
            "text/plain": [
              "<keras.callbacks.History at 0x7f67ac70f710>"
            ]
          },
          "metadata": {},
          "execution_count": 102
        }
      ]
    },
    {
      "cell_type": "code",
      "source": [
        "model.predict([10.0])"
      ],
      "metadata": {
        "colab": {
          "base_uri": "https://localhost:8080/"
        },
        "id": "reCBTQTxpZmy",
        "outputId": "144ce261-038c-4df2-9bae-7655b131ed17"
      },
      "execution_count": 103,
      "outputs": [
        {
          "output_type": "execute_result",
          "data": {
            "text/plain": [
              "array([[18.875494]], dtype=float32)"
            ]
          },
          "metadata": {},
          "execution_count": 103
        }
      ]
    },
    {
      "cell_type": "code",
      "source": [
        "model.layers[0].weights"
      ],
      "metadata": {
        "colab": {
          "base_uri": "https://localhost:8080/"
        },
        "id": "gTLEPWCgsrTJ",
        "outputId": "d0a9f168-92e6-404f-e1ef-138f6163566c"
      },
      "execution_count": 104,
      "outputs": [
        {
          "output_type": "execute_result",
          "data": {
            "text/plain": [
              "[<tf.Variable 'dense_14/kernel:0' shape=(1, 1) dtype=float32, numpy=array([[1.9754308]], dtype=float32)>,\n",
              " <tf.Variable 'dense_14/bias:0' shape=(1,) dtype=float32, numpy=array([-0.8788151], dtype=float32)>]"
            ]
          },
          "metadata": {},
          "execution_count": 104
        }
      ]
    },
    {
      "cell_type": "code",
      "source": [
        ""
      ],
      "metadata": {
        "id": "RdD4xko4tIwU"
      },
      "execution_count": null,
      "outputs": []
    },
    {
      "cell_type": "markdown",
      "source": [
        "# Intro Computer Vision"
      ],
      "metadata": {
        "id": "6cGetAiouPkB"
      }
    },
    {
      "cell_type": "code",
      "source": [
        "mnist = tf.keras.datasets.mnist"
      ],
      "metadata": {
        "id": "0td83Jw5uYJj"
      },
      "execution_count": 105,
      "outputs": []
    },
    {
      "cell_type": "markdown",
      "source": [
        "learn more at: https://tensorflow.org/datasets"
      ],
      "metadata": {
        "id": "6W1kwNF3uxWZ"
      }
    },
    {
      "cell_type": "code",
      "source": [
        "(training_images, training_labels), (test_images, test_labels) = mnist.load_data()"
      ],
      "metadata": {
        "colab": {
          "base_uri": "https://localhost:8080/"
        },
        "id": "99ZTjY-Uugt5",
        "outputId": "e0f55f55-d452-4071-c093-7509abeaa1df"
      },
      "execution_count": 106,
      "outputs": [
        {
          "output_type": "stream",
          "name": "stdout",
          "text": [
            "Downloading data from https://storage.googleapis.com/tensorflow/tf-keras-datasets/mnist.npz\n",
            "11493376/11490434 [==============================] - 0s 0us/step\n",
            "11501568/11490434 [==============================] - 0s 0us/step\n"
          ]
        }
      ]
    },
    {
      "cell_type": "code",
      "source": [
        "training_images.shape"
      ],
      "metadata": {
        "colab": {
          "base_uri": "https://localhost:8080/"
        },
        "id": "SKlu6coczQX_",
        "outputId": "41e2fee4-9ae3-4536-e79b-0f5d2e225602"
      },
      "execution_count": 124,
      "outputs": [
        {
          "output_type": "execute_result",
          "data": {
            "text/plain": [
              "(60000, 28, 28)"
            ]
          },
          "metadata": {},
          "execution_count": 124
        }
      ]
    },
    {
      "cell_type": "code",
      "source": [
        "plt.imshow(training_images[0])\n",
        "print(training_labels[0])\n",
        "print(training_images[0])"
      ],
      "metadata": {
        "colab": {
          "base_uri": "https://localhost:8080/",
          "height": 1000
        },
        "id": "eD-QdWJkukSx",
        "outputId": "c9c88c58-2dd5-4e8f-be31-d5751595c8f1"
      },
      "execution_count": 107,
      "outputs": [
        {
          "output_type": "stream",
          "name": "stdout",
          "text": [
            "5\n",
            "[[  0   0   0   0   0   0   0   0   0   0   0   0   0   0   0   0   0   0\n",
            "    0   0   0   0   0   0   0   0   0   0]\n",
            " [  0   0   0   0   0   0   0   0   0   0   0   0   0   0   0   0   0   0\n",
            "    0   0   0   0   0   0   0   0   0   0]\n",
            " [  0   0   0   0   0   0   0   0   0   0   0   0   0   0   0   0   0   0\n",
            "    0   0   0   0   0   0   0   0   0   0]\n",
            " [  0   0   0   0   0   0   0   0   0   0   0   0   0   0   0   0   0   0\n",
            "    0   0   0   0   0   0   0   0   0   0]\n",
            " [  0   0   0   0   0   0   0   0   0   0   0   0   0   0   0   0   0   0\n",
            "    0   0   0   0   0   0   0   0   0   0]\n",
            " [  0   0   0   0   0   0   0   0   0   0   0   0   3  18  18  18 126 136\n",
            "  175  26 166 255 247 127   0   0   0   0]\n",
            " [  0   0   0   0   0   0   0   0  30  36  94 154 170 253 253 253 253 253\n",
            "  225 172 253 242 195  64   0   0   0   0]\n",
            " [  0   0   0   0   0   0   0  49 238 253 253 253 253 253 253 253 253 251\n",
            "   93  82  82  56  39   0   0   0   0   0]\n",
            " [  0   0   0   0   0   0   0  18 219 253 253 253 253 253 198 182 247 241\n",
            "    0   0   0   0   0   0   0   0   0   0]\n",
            " [  0   0   0   0   0   0   0   0  80 156 107 253 253 205  11   0  43 154\n",
            "    0   0   0   0   0   0   0   0   0   0]\n",
            " [  0   0   0   0   0   0   0   0   0  14   1 154 253  90   0   0   0   0\n",
            "    0   0   0   0   0   0   0   0   0   0]\n",
            " [  0   0   0   0   0   0   0   0   0   0   0 139 253 190   2   0   0   0\n",
            "    0   0   0   0   0   0   0   0   0   0]\n",
            " [  0   0   0   0   0   0   0   0   0   0   0  11 190 253  70   0   0   0\n",
            "    0   0   0   0   0   0   0   0   0   0]\n",
            " [  0   0   0   0   0   0   0   0   0   0   0   0  35 241 225 160 108   1\n",
            "    0   0   0   0   0   0   0   0   0   0]\n",
            " [  0   0   0   0   0   0   0   0   0   0   0   0   0  81 240 253 253 119\n",
            "   25   0   0   0   0   0   0   0   0   0]\n",
            " [  0   0   0   0   0   0   0   0   0   0   0   0   0   0  45 186 253 253\n",
            "  150  27   0   0   0   0   0   0   0   0]\n",
            " [  0   0   0   0   0   0   0   0   0   0   0   0   0   0   0  16  93 252\n",
            "  253 187   0   0   0   0   0   0   0   0]\n",
            " [  0   0   0   0   0   0   0   0   0   0   0   0   0   0   0   0   0 249\n",
            "  253 249  64   0   0   0   0   0   0   0]\n",
            " [  0   0   0   0   0   0   0   0   0   0   0   0   0   0  46 130 183 253\n",
            "  253 207   2   0   0   0   0   0   0   0]\n",
            " [  0   0   0   0   0   0   0   0   0   0   0   0  39 148 229 253 253 253\n",
            "  250 182   0   0   0   0   0   0   0   0]\n",
            " [  0   0   0   0   0   0   0   0   0   0  24 114 221 253 253 253 253 201\n",
            "   78   0   0   0   0   0   0   0   0   0]\n",
            " [  0   0   0   0   0   0   0   0  23  66 213 253 253 253 253 198  81   2\n",
            "    0   0   0   0   0   0   0   0   0   0]\n",
            " [  0   0   0   0   0   0  18 171 219 253 253 253 253 195  80   9   0   0\n",
            "    0   0   0   0   0   0   0   0   0   0]\n",
            " [  0   0   0   0  55 172 226 253 253 253 253 244 133  11   0   0   0   0\n",
            "    0   0   0   0   0   0   0   0   0   0]\n",
            " [  0   0   0   0 136 253 253 253 212 135 132  16   0   0   0   0   0   0\n",
            "    0   0   0   0   0   0   0   0   0   0]\n",
            " [  0   0   0   0   0   0   0   0   0   0   0   0   0   0   0   0   0   0\n",
            "    0   0   0   0   0   0   0   0   0   0]\n",
            " [  0   0   0   0   0   0   0   0   0   0   0   0   0   0   0   0   0   0\n",
            "    0   0   0   0   0   0   0   0   0   0]\n",
            " [  0   0   0   0   0   0   0   0   0   0   0   0   0   0   0   0   0   0\n",
            "    0   0   0   0   0   0   0   0   0   0]]\n"
          ]
        },
        {
          "output_type": "display_data",
          "data": {
            "text/plain": [
              "<Figure size 432x288 with 1 Axes>"
            ],
            "image/png": "[encoded data removed]"
          },
          "metadata": {
            "needs_background": "light"
          }
        }
      ]
    },
    {
      "cell_type": "code",
      "source": [
        "training_images  = training_images / 255.0\n",
        "test_images = test_images / 255.0"
      ],
      "metadata": {
        "id": "G0sf3v-Tu6ZM"
      },
      "execution_count": 108,
      "outputs": []
    },
    {
      "cell_type": "code",
      "source": [
        "model = tf.keras.models.Sequential([\n",
        "                                    tf.keras.layers.Input(shape=(28, 28)),\n",
        "                                    tf.keras.layers.Flatten(), \n",
        "                                    tf.keras.layers.Dense(128, activation=\"relu\"), \n",
        "                                    tf.keras.layers.Dense(10, activation=\"softmax\")\n",
        "                                    ])\n",
        "model.compile(\n",
        "    optimizer=tf.keras.optimizers.Adam(1e-3),\n",
        "    loss=\"sparse_categorical_crossentropy\",\n",
        "    metrics=[\"accuracy\"]\n",
        ")\n",
        "\n",
        "model.summary()"
      ],
      "metadata": {
        "colab": {
          "base_uri": "https://localhost:8080/"
        },
        "id": "sBDiOdgevGTL",
        "outputId": "20a6332c-6c1a-4ed6-a968-deadf6298332"
      },
      "execution_count": 119,
      "outputs": [
        {
          "output_type": "stream",
          "name": "stdout",
          "text": [
            "Model: \"sequential_19\"\n",
            "_________________________________________________________________\n",
            " Layer (type)                Output Shape              Param #   \n",
            "=================================================================\n",
            " flatten_5 (Flatten)         (None, 784)               0         \n",
            "                                                                 \n",
            " dense_25 (Dense)            (None, 128)               100480    \n",
            "                                                                 \n",
            " dense_26 (Dense)            (None, 10)                1290      \n",
            "                                                                 \n",
            "=================================================================\n",
            "Total params: 101,770\n",
            "Trainable params: 101,770\n",
            "Non-trainable params: 0\n",
            "_________________________________________________________________\n"
          ]
        }
      ]
    },
    {
      "cell_type": "code",
      "source": [
        "hist = model.fit(training_images, training_labels, validation_split=0.2, epochs=5)"
      ],
      "metadata": {
        "colab": {
          "base_uri": "https://localhost:8080/"
        },
        "id": "w0_IyfYPxKfZ",
        "outputId": "9bf35025-2bcc-4034-b2a4-880417a6a6c4"
      },
      "execution_count": 125,
      "outputs": [
        {
          "output_type": "stream",
          "name": "stdout",
          "text": [
            "Epoch 1/5\n",
            "1500/1500 [==============================] - 5s 3ms/step - loss: 0.0366 - accuracy: 0.9889 - val_loss: 0.0320 - val_accuracy: 0.9903\n",
            "Epoch 2/5\n",
            "1500/1500 [==============================] - 5s 4ms/step - loss: 0.0274 - accuracy: 0.9916 - val_loss: 0.0360 - val_accuracy: 0.9891\n",
            "Epoch 3/5\n",
            "1500/1500 [==============================] - 5s 4ms/step - loss: 0.0216 - accuracy: 0.9935 - val_loss: 0.0389 - val_accuracy: 0.9874\n",
            "Epoch 4/5\n",
            "1500/1500 [==============================] - 6s 4ms/step - loss: 0.0172 - accuracy: 0.9949 - val_loss: 0.0435 - val_accuracy: 0.9858\n",
            "Epoch 5/5\n",
            "1500/1500 [==============================] - 6s 4ms/step - loss: 0.0152 - accuracy: 0.9953 - val_loss: 0.0511 - val_accuracy: 0.9854\n"
          ]
        }
      ]
    },
    {
      "cell_type": "code",
      "source": [
        "visualize_metrics(hist)"
      ],
      "metadata": {
        "colab": {
          "base_uri": "https://localhost:8080/",
          "height": 320
        },
        "id": "1rF8RxU_ylLs",
        "outputId": "5d438653-7ac3-4fa3-ce37-c0318fefa002"
      },
      "execution_count": 128,
      "outputs": [
        {
          "output_type": "display_data",
          "data": {
            "text/plain": [
              "<Figure size 864x360 with 2 Axes>"
            ],
            "image/png": "[encoded data removed]"
          },
          "metadata": {
            "needs_background": "light"
          }
        }
      ]
    },
    {
      "cell_type": "code",
      "source": [
        "test_image = test_images[0]\n",
        "test_label = test_labels[0]\n",
        "\n",
        "plt.imshow(test_image)\n",
        "print(test_label)"
      ],
      "metadata": {
        "colab": {
          "base_uri": "https://localhost:8080/",
          "height": 283
        },
        "id": "IsblOLsGy77q",
        "outputId": "130da6c3-2107-464b-8cf3-e9f3e08add14"
      },
      "execution_count": 132,
      "outputs": [
        {
          "output_type": "stream",
          "name": "stdout",
          "text": [
            "7\n"
          ]
        },
        {
          "output_type": "display_data",
          "data": {
            "text/plain": [
              "<Figure size 432x288 with 1 Axes>"
            ],
            "image/png": "[encoded data removed]"
          },
          "metadata": {
            "needs_background": "light"
          }
        }
      ]
    },
    {
      "cell_type": "code",
      "source": [
        "prepro_test_image = np.expand_dims(test_image, axis=0)\n",
        "out = model.predict(prepro_test_image)\n",
        "\n",
        "print(out)"
      ],
      "metadata": {
        "colab": {
          "base_uri": "https://localhost:8080/"
        },
        "id": "eSxkFLL3zzFj",
        "outputId": "9418585d-bcc1-4fce-ef2f-cdc1ec67874d"
      },
      "execution_count": 134,
      "outputs": [
        {
          "output_type": "stream",
          "name": "stdout",
          "text": [
            "[[4.2680707e-12 1.5815278e-11 4.0977959e-09 4.7244331e-08 2.1156610e-14\n",
            "  1.4668753e-12 1.3365578e-20 1.0000000e+00 1.7880232e-10 6.6727774e-09]]\n"
          ]
        }
      ]
    },
    {
      "cell_type": "code",
      "source": [
        "predicted_label = np.argmax(out)\n",
        "predicted_conf = out[0][predicted_label]\n",
        "\n",
        "print(f\"predicted: {predicted_label} with confidency {predicted_conf * 100:.2f}%\")"
      ],
      "metadata": {
        "colab": {
          "base_uri": "https://localhost:8080/"
        },
        "id": "4G6oNueRz5Yt",
        "outputId": "175d4ce3-daba-4ebf-f230-ebf078644e20"
      },
      "execution_count": 141,
      "outputs": [
        {
          "output_type": "stream",
          "name": "stdout",
          "text": [
            "predicted: 7 with confidency 100.00%\n"
          ]
        }
      ]
    },
    {
      "cell_type": "markdown",
      "source": [
        "## Let's upgrade our data a little bit more complex"
      ],
      "metadata": {
        "id": "h8Ajq28148Ea"
      }
    },
    {
      "cell_type": "code",
      "source": [
        "fmnist = tf.keras.datasets.fashion_mnist\n",
        "\n",
        "(training_images, training_labels), (test_images, test_labels) = fmnist.load_data()\n",
        "print(training_images.shape)"
      ],
      "metadata": {
        "colab": {
          "base_uri": "https://localhost:8080/"
        },
        "id": "IL6RIT100YXY",
        "outputId": "4263ac41-892f-44ac-a636-7c52a01f3f3c"
      },
      "execution_count": 5,
      "outputs": [
        {
          "output_type": "stream",
          "name": "stdout",
          "text": [
            "(60000, 28, 28)\n"
          ]
        }
      ]
    },
    {
      "cell_type": "code",
      "source": [
        "plt.imshow(training_images[0])\n",
        "print(training_labels[0])\n",
        "print(training_images[0])"
      ],
      "metadata": {
        "colab": {
          "base_uri": "https://localhost:8080/",
          "height": 1000
        },
        "id": "7LmzGw_P5L04",
        "outputId": "250ef5ae-2fe8-4974-c64c-cdfb8a1b2074"
      },
      "execution_count": 143,
      "outputs": [
        {
          "output_type": "stream",
          "name": "stdout",
          "text": [
            "9\n",
            "[[  0   0   0   0   0   0   0   0   0   0   0   0   0   0   0   0   0   0\n",
            "    0   0   0   0   0   0   0   0   0   0]\n",
            " [  0   0   0   0   0   0   0   0   0   0   0   0   0   0   0   0   0   0\n",
            "    0   0   0   0   0   0   0   0   0   0]\n",
            " [  0   0   0   0   0   0   0   0   0   0   0   0   0   0   0   0   0   0\n",
            "    0   0   0   0   0   0   0   0   0   0]\n",
            " [  0   0   0   0   0   0   0   0   0   0   0   0   1   0   0  13  73   0\n",
            "    0   1   4   0   0   0   0   1   1   0]\n",
            " [  0   0   0   0   0   0   0   0   0   0   0   0   3   0  36 136 127  62\n",
            "   54   0   0   0   1   3   4   0   0   3]\n",
            " [  0   0   0   0   0   0   0   0   0   0   0   0   6   0 102 204 176 134\n",
            "  144 123  23   0   0   0   0  12  10   0]\n",
            " [  0   0   0   0   0   0   0   0   0   0   0   0   0   0 155 236 207 178\n",
            "  107 156 161 109  64  23  77 130  72  15]\n",
            " [  0   0   0   0   0   0   0   0   0   0   0   1   0  69 207 223 218 216\n",
            "  216 163 127 121 122 146 141  88 172  66]\n",
            " [  0   0   0   0   0   0   0   0   0   1   1   1   0 200 232 232 233 229\n",
            "  223 223 215 213 164 127 123 196 229   0]\n",
            " [  0   0   0   0   0   0   0   0   0   0   0   0   0 183 225 216 223 228\n",
            "  235 227 224 222 224 221 223 245 173   0]\n",
            " [  0   0   0   0   0   0   0   0   0   0   0   0   0 193 228 218 213 198\n",
            "  180 212 210 211 213 223 220 243 202   0]\n",
            " [  0   0   0   0   0   0   0   0   0   1   3   0  12 219 220 212 218 192\n",
            "  169 227 208 218 224 212 226 197 209  52]\n",
            " [  0   0   0   0   0   0   0   0   0   0   6   0  99 244 222 220 218 203\n",
            "  198 221 215 213 222 220 245 119 167  56]\n",
            " [  0   0   0   0   0   0   0   0   0   4   0   0  55 236 228 230 228 240\n",
            "  232 213 218 223 234 217 217 209  92   0]\n",
            " [  0   0   1   4   6   7   2   0   0   0   0   0 237 226 217 223 222 219\n",
            "  222 221 216 223 229 215 218 255  77   0]\n",
            " [  0   3   0   0   0   0   0   0   0  62 145 204 228 207 213 221 218 208\n",
            "  211 218 224 223 219 215 224 244 159   0]\n",
            " [  0   0   0   0  18  44  82 107 189 228 220 222 217 226 200 205 211 230\n",
            "  224 234 176 188 250 248 233 238 215   0]\n",
            " [  0  57 187 208 224 221 224 208 204 214 208 209 200 159 245 193 206 223\n",
            "  255 255 221 234 221 211 220 232 246   0]\n",
            " [  3 202 228 224 221 211 211 214 205 205 205 220 240  80 150 255 229 221\n",
            "  188 154 191 210 204 209 222 228 225   0]\n",
            " [ 98 233 198 210 222 229 229 234 249 220 194 215 217 241  65  73 106 117\n",
            "  168 219 221 215 217 223 223 224 229  29]\n",
            " [ 75 204 212 204 193 205 211 225 216 185 197 206 198 213 240 195 227 245\n",
            "  239 223 218 212 209 222 220 221 230  67]\n",
            " [ 48 203 183 194 213 197 185 190 194 192 202 214 219 221 220 236 225 216\n",
            "  199 206 186 181 177 172 181 205 206 115]\n",
            " [  0 122 219 193 179 171 183 196 204 210 213 207 211 210 200 196 194 191\n",
            "  195 191 198 192 176 156 167 177 210  92]\n",
            " [  0   0  74 189 212 191 175 172 175 181 185 188 189 188 193 198 204 209\n",
            "  210 210 211 188 188 194 192 216 170   0]\n",
            " [  2   0   0   0  66 200 222 237 239 242 246 243 244 221 220 193 191 179\n",
            "  182 182 181 176 166 168  99  58   0   0]\n",
            " [  0   0   0   0   0   0   0  40  61  44  72  41  35   0   0   0   0   0\n",
            "    0   0   0   0   0   0   0   0   0   0]\n",
            " [  0   0   0   0   0   0   0   0   0   0   0   0   0   0   0   0   0   0\n",
            "    0   0   0   0   0   0   0   0   0   0]\n",
            " [  0   0   0   0   0   0   0   0   0   0   0   0   0   0   0   0   0   0\n",
            "    0   0   0   0   0   0   0   0   0   0]]\n"
          ]
        },
        {
          "output_type": "display_data",
          "data": {
            "text/plain": [
              "<Figure size 432x288 with 1 Axes>"
            ],
            "image/png": "[encoded data removed]"
          },
          "metadata": {
            "needs_background": "light"
          }
        }
      ]
    },
    {
      "cell_type": "markdown",
      "source": [
        "quoting from original homepage, [Fashion MNIST Github](https://github.com/zalandoresearch/fashion-mnist)\n",
        "\n",
        "| Label | Description |\n",
        "| --- | --- |\n",
        "| 0 | T-shirt/top |\n",
        "| 1 | Trouser |\n",
        "| 2 | Pullover |\n",
        "| 3 | Dress |\n",
        "| 4 | Coat |\n",
        "| 5 | Sandal |\n",
        "| 6 | Shirt |\n",
        "| 7 | Sneaker |\n",
        "| 8 | Bag |\n",
        "| 9 | Ankle boot |"
      ],
      "metadata": {
        "id": "2VppS48A5yLo"
      }
    },
    {
      "cell_type": "code",
      "source": [
        "training_images  = training_images / 255.0\n",
        "test_images = test_images / 255.0"
      ],
      "metadata": {
        "id": "UO4cynA55ROf"
      },
      "execution_count": 6,
      "outputs": []
    },
    {
      "cell_type": "code",
      "source": [
        "model = tf.keras.models.Sequential([\n",
        "                                    tf.keras.layers.Input(shape=(28, 28)),\n",
        "                                    tf.keras.layers.Flatten(), \n",
        "                                    tf.keras.layers.Dense(128, activation=\"relu\"), \n",
        "                                    tf.keras.layers.Dense(10, activation=\"softmax\")\n",
        "                                    ])\n",
        "model.compile(\n",
        "    optimizer=tf.keras.optimizers.Adam(1e-3),\n",
        "    loss=\"sparse_categorical_crossentropy\",\n",
        "    metrics=[\"accuracy\"]\n",
        ")\n",
        "\n",
        "model.summary()"
      ],
      "metadata": {
        "colab": {
          "base_uri": "https://localhost:8080/"
        },
        "id": "pF1h8-nt6FjV",
        "outputId": "dc164d0b-f615-407c-fc6f-6e19d5a5f154"
      },
      "execution_count": 151,
      "outputs": [
        {
          "output_type": "stream",
          "name": "stdout",
          "text": [
            "Model: \"sequential_21\"\n",
            "_________________________________________________________________\n",
            " Layer (type)                Output Shape              Param #   \n",
            "=================================================================\n",
            " flatten_7 (Flatten)         (None, 784)               0         \n",
            "                                                                 \n",
            " dense_29 (Dense)            (None, 128)               100480    \n",
            "                                                                 \n",
            " dense_30 (Dense)            (None, 10)                1290      \n",
            "                                                                 \n",
            "=================================================================\n",
            "Total params: 101,770\n",
            "Trainable params: 101,770\n",
            "Non-trainable params: 0\n",
            "_________________________________________________________________\n"
          ]
        }
      ]
    },
    {
      "cell_type": "code",
      "source": [
        "hist = model.fit(training_images, training_labels, validation_split=0.2, epochs=5)"
      ],
      "metadata": {
        "colab": {
          "base_uri": "https://localhost:8080/"
        },
        "id": "ZZ2ua4xe6L4m",
        "outputId": "7644ee73-167c-4125-ac89-6ce16e0ce90b"
      },
      "execution_count": 146,
      "outputs": [
        {
          "output_type": "stream",
          "name": "stdout",
          "text": [
            "Epoch 1/5\n",
            "1500/1500 [==============================] - 6s 3ms/step - loss: 0.5230 - accuracy: 0.8183 - val_loss: 0.4207 - val_accuracy: 0.8510\n",
            "Epoch 2/5\n",
            "1500/1500 [==============================] - 6s 4ms/step - loss: 0.3896 - accuracy: 0.8597 - val_loss: 0.3783 - val_accuracy: 0.8648\n",
            "Epoch 3/5\n",
            "1500/1500 [==============================] - 6s 4ms/step - loss: 0.3518 - accuracy: 0.8704 - val_loss: 0.3694 - val_accuracy: 0.8622\n",
            "Epoch 4/5\n",
            "1500/1500 [==============================] - 6s 4ms/step - loss: 0.3233 - accuracy: 0.8818 - val_loss: 0.3771 - val_accuracy: 0.8654\n",
            "Epoch 5/5\n",
            "1500/1500 [==============================] - 5s 3ms/step - loss: 0.3043 - accuracy: 0.8881 - val_loss: 0.3551 - val_accuracy: 0.8745\n"
          ]
        }
      ]
    },
    {
      "cell_type": "code",
      "source": [
        "visualize_metrics(hist)"
      ],
      "metadata": {
        "colab": {
          "base_uri": "https://localhost:8080/",
          "height": 320
        },
        "id": "YhD_5oyO6P7B",
        "outputId": "be931d1e-2ad7-4136-9cdc-a2f7572a4ebd"
      },
      "execution_count": 147,
      "outputs": [
        {
          "output_type": "display_data",
          "data": {
            "text/plain": [
              "<Figure size 864x360 with 2 Axes>"
            ],
            "image/png": "[encoded data removed]"
          },
          "metadata": {
            "needs_background": "light"
          }
        }
      ]
    },
    {
      "cell_type": "code",
      "source": [
        "test_image = test_images[0]\n",
        "test_label = test_labels[0]\n",
        "\n",
        "plt.imshow(test_image)\n",
        "print(test_label)"
      ],
      "metadata": {
        "colab": {
          "base_uri": "https://localhost:8080/",
          "height": 283
        },
        "id": "XcNsanbk6Vbd",
        "outputId": "73536849-bc58-4645-f49b-7da88f925aff"
      },
      "execution_count": 20,
      "outputs": [
        {
          "output_type": "stream",
          "name": "stdout",
          "text": [
            "9\n"
          ]
        },
        {
          "output_type": "display_data",
          "data": {
            "text/plain": [
              "<Figure size 432x288 with 1 Axes>"
            ],
            "image/png": "[encoded data removed]"
          },
          "metadata": {
            "needs_background": "light"
          }
        }
      ]
    },
    {
      "cell_type": "code",
      "source": [
        "prepro_test_image = np.expand_dims(test_image, axis=0)\n",
        "out = model.predict(prepro_test_image)\n",
        "\n",
        "print(out)"
      ],
      "metadata": {
        "colab": {
          "base_uri": "https://localhost:8080/"
        },
        "id": "vasA22qk6YtS",
        "outputId": "636c6398-d225-4c45-b496-b5f586799999"
      },
      "execution_count": 149,
      "outputs": [
        {
          "output_type": "stream",
          "name": "stdout",
          "text": [
            "WARNING:tensorflow:5 out of the last 9 calls to <function Model.make_predict_function.<locals>.predict_function at 0x7f67a6d00830> triggered tf.function retracing. Tracing is expensive and the excessive number of tracings could be due to (1) creating @tf.function repeatedly in a loop, (2) passing tensors with different shapes, (3) passing Python objects instead of tensors. For (1), please define your @tf.function outside of the loop. For (2), @tf.function has experimental_relax_shapes=True option that relaxes argument shapes that can avoid unnecessary retracing. For (3), please refer to https://www.tensorflow.org/guide/function#controlling_retracing and https://www.tensorflow.org/api_docs/python/tf/function for  more details.\n",
            "[[2.3354396e-06 5.1041753e-09 1.2806640e-06 2.2977654e-08 3.2114499e-06\n",
            "  3.7946105e-03 1.5835934e-05 1.6256758e-03 1.6578231e-05 9.9454039e-01]]\n"
          ]
        }
      ]
    },
    {
      "cell_type": "code",
      "source": [
        "predicted_label = np.argmax(out)\n",
        "predicted_conf = out[0][predicted_label]\n",
        "\n",
        "print(f\"predicted: {predicted_label} with confidency {predicted_conf * 100:.2f}%\")"
      ],
      "metadata": {
        "colab": {
          "base_uri": "https://localhost:8080/"
        },
        "id": "vIDWP-eX6cW0",
        "outputId": "57e119aa-5f88-4b72-920e-1e86b0c23d9f"
      },
      "execution_count": 150,
      "outputs": [
        {
          "output_type": "stream",
          "name": "stdout",
          "text": [
            "predicted: 9 with confidency 99.45%\n"
          ]
        }
      ]
    },
    {
      "cell_type": "code",
      "source": [
        "hist2 = model.fit(training_images, training_labels, validation_split=0.2, epochs=100)"
      ],
      "metadata": {
        "colab": {
          "base_uri": "https://localhost:8080/"
        },
        "id": "Fypq8J3W6jhF",
        "outputId": "9db4c482-782f-46ca-fdfe-d98e8534ed0d"
      },
      "execution_count": 152,
      "outputs": [
        {
          "output_type": "stream",
          "name": "stdout",
          "text": [
            "Epoch 1/100\n",
            "1500/1500 [==============================] - 7s 4ms/step - loss: 0.5191 - accuracy: 0.8193 - val_loss: 0.4017 - val_accuracy: 0.8568\n",
            "Epoch 2/100\n",
            "1500/1500 [==============================] - 5s 3ms/step - loss: 0.3837 - accuracy: 0.8619 - val_loss: 0.3885 - val_accuracy: 0.8613\n",
            "Epoch 3/100\n",
            "1500/1500 [==============================] - 5s 3ms/step - loss: 0.3422 - accuracy: 0.8751 - val_loss: 0.3710 - val_accuracy: 0.8681\n",
            "Epoch 4/100\n",
            "1500/1500 [==============================] - 6s 4ms/step - loss: 0.3180 - accuracy: 0.8829 - val_loss: 0.3336 - val_accuracy: 0.8825\n",
            "Epoch 5/100\n",
            "1500/1500 [==============================] - 6s 4ms/step - loss: 0.2970 - accuracy: 0.8920 - val_loss: 0.3222 - val_accuracy: 0.8840\n",
            "Epoch 6/100\n",
            "1500/1500 [==============================] - 6s 4ms/step - loss: 0.2851 - accuracy: 0.8953 - val_loss: 0.3252 - val_accuracy: 0.8834\n",
            "Epoch 7/100\n",
            "1500/1500 [==============================] - 6s 4ms/step - loss: 0.2734 - accuracy: 0.8977 - val_loss: 0.3222 - val_accuracy: 0.8847\n",
            "Epoch 8/100\n",
            "1500/1500 [==============================] - 5s 3ms/step - loss: 0.2604 - accuracy: 0.9027 - val_loss: 0.3225 - val_accuracy: 0.8847\n",
            "Epoch 9/100\n",
            "1500/1500 [==============================] - 5s 3ms/step - loss: 0.2508 - accuracy: 0.9067 - val_loss: 0.3096 - val_accuracy: 0.8897\n",
            "Epoch 10/100\n",
            "1500/1500 [==============================] - 5s 3ms/step - loss: 0.2412 - accuracy: 0.9099 - val_loss: 0.3343 - val_accuracy: 0.8849\n",
            "Epoch 11/100\n",
            "1500/1500 [==============================] - 5s 3ms/step - loss: 0.2327 - accuracy: 0.9128 - val_loss: 0.3328 - val_accuracy: 0.8867\n",
            "Epoch 12/100\n",
            "1500/1500 [==============================] - 5s 3ms/step - loss: 0.2261 - accuracy: 0.9146 - val_loss: 0.3097 - val_accuracy: 0.8921\n",
            "Epoch 13/100\n",
            "1500/1500 [==============================] - 5s 3ms/step - loss: 0.2165 - accuracy: 0.9175 - val_loss: 0.3129 - val_accuracy: 0.8920\n",
            "Epoch 14/100\n",
            "1500/1500 [==============================] - 6s 4ms/step - loss: 0.2109 - accuracy: 0.9204 - val_loss: 0.3267 - val_accuracy: 0.8888\n",
            "Epoch 15/100\n",
            "1500/1500 [==============================] - 6s 4ms/step - loss: 0.2042 - accuracy: 0.9235 - val_loss: 0.3148 - val_accuracy: 0.8943\n",
            "Epoch 16/100\n",
            "1500/1500 [==============================] - 6s 4ms/step - loss: 0.1986 - accuracy: 0.9251 - val_loss: 0.3280 - val_accuracy: 0.8900\n",
            "Epoch 17/100\n",
            "1500/1500 [==============================] - 5s 4ms/step - loss: 0.1910 - accuracy: 0.9286 - val_loss: 0.3151 - val_accuracy: 0.8957\n",
            "Epoch 18/100\n",
            "1500/1500 [==============================] - 5s 4ms/step - loss: 0.1862 - accuracy: 0.9306 - val_loss: 0.3294 - val_accuracy: 0.8936\n",
            "Epoch 19/100\n",
            "1500/1500 [==============================] - 6s 4ms/step - loss: 0.1825 - accuracy: 0.9315 - val_loss: 0.3348 - val_accuracy: 0.8938\n",
            "Epoch 20/100\n",
            "1500/1500 [==============================] - 6s 4ms/step - loss: 0.1766 - accuracy: 0.9340 - val_loss: 0.3410 - val_accuracy: 0.8887\n",
            "Epoch 21/100\n",
            "1500/1500 [==============================] - 5s 4ms/step - loss: 0.1715 - accuracy: 0.9362 - val_loss: 0.3462 - val_accuracy: 0.8913\n",
            "Epoch 22/100\n",
            "1500/1500 [==============================] - 6s 4ms/step - loss: 0.1671 - accuracy: 0.9360 - val_loss: 0.3570 - val_accuracy: 0.8886\n",
            "Epoch 23/100\n",
            "1500/1500 [==============================] - 5s 4ms/step - loss: 0.1623 - accuracy: 0.9399 - val_loss: 0.3446 - val_accuracy: 0.8914\n",
            "Epoch 24/100\n",
            "1500/1500 [==============================] - 5s 3ms/step - loss: 0.1592 - accuracy: 0.9401 - val_loss: 0.3534 - val_accuracy: 0.8957\n",
            "Epoch 25/100\n",
            "1500/1500 [==============================] - 5s 3ms/step - loss: 0.1551 - accuracy: 0.9418 - val_loss: 0.3667 - val_accuracy: 0.8920\n",
            "Epoch 26/100\n",
            "1500/1500 [==============================] - 5s 3ms/step - loss: 0.1490 - accuracy: 0.9448 - val_loss: 0.3555 - val_accuracy: 0.8930\n",
            "Epoch 27/100\n",
            "1500/1500 [==============================] - 5s 3ms/step - loss: 0.1455 - accuracy: 0.9446 - val_loss: 0.3642 - val_accuracy: 0.8935\n",
            "Epoch 28/100\n",
            "1500/1500 [==============================] - 5s 4ms/step - loss: 0.1418 - accuracy: 0.9471 - val_loss: 0.3779 - val_accuracy: 0.8918\n",
            "Epoch 29/100\n",
            "1500/1500 [==============================] - 5s 3ms/step - loss: 0.1412 - accuracy: 0.9463 - val_loss: 0.3847 - val_accuracy: 0.8939\n",
            "Epoch 30/100\n",
            "1500/1500 [==============================] - 6s 4ms/step - loss: 0.1365 - accuracy: 0.9498 - val_loss: 0.3988 - val_accuracy: 0.8899\n",
            "Epoch 31/100\n",
            "1500/1500 [==============================] - 5s 3ms/step - loss: 0.1324 - accuracy: 0.9503 - val_loss: 0.3776 - val_accuracy: 0.8928\n",
            "Epoch 32/100\n",
            "1500/1500 [==============================] - 5s 3ms/step - loss: 0.1311 - accuracy: 0.9508 - val_loss: 0.3789 - val_accuracy: 0.8950\n",
            "Epoch 33/100\n",
            "1500/1500 [==============================] - 6s 4ms/step - loss: 0.1274 - accuracy: 0.9513 - val_loss: 0.4047 - val_accuracy: 0.8879\n",
            "Epoch 34/100\n",
            "1500/1500 [==============================] - 6s 4ms/step - loss: 0.1246 - accuracy: 0.9532 - val_loss: 0.3884 - val_accuracy: 0.8952\n",
            "Epoch 35/100\n",
            "1500/1500 [==============================] - 6s 4ms/step - loss: 0.1234 - accuracy: 0.9534 - val_loss: 0.3894 - val_accuracy: 0.8932\n",
            "Epoch 36/100\n",
            "1500/1500 [==============================] - 5s 3ms/step - loss: 0.1184 - accuracy: 0.9557 - val_loss: 0.3970 - val_accuracy: 0.8957\n",
            "Epoch 37/100\n",
            "1500/1500 [==============================] - 5s 3ms/step - loss: 0.1174 - accuracy: 0.9560 - val_loss: 0.4116 - val_accuracy: 0.8904\n",
            "Epoch 38/100\n",
            "1500/1500 [==============================] - 5s 3ms/step - loss: 0.1138 - accuracy: 0.9573 - val_loss: 0.4254 - val_accuracy: 0.8937\n",
            "Epoch 39/100\n",
            "1500/1500 [==============================] - 6s 4ms/step - loss: 0.1107 - accuracy: 0.9582 - val_loss: 0.4067 - val_accuracy: 0.8954\n",
            "Epoch 40/100\n",
            "1500/1500 [==============================] - 5s 3ms/step - loss: 0.1109 - accuracy: 0.9584 - val_loss: 0.4391 - val_accuracy: 0.8890\n",
            "Epoch 41/100\n",
            "1500/1500 [==============================] - 5s 3ms/step - loss: 0.1085 - accuracy: 0.9600 - val_loss: 0.4190 - val_accuracy: 0.8927\n",
            "Epoch 42/100\n",
            "1500/1500 [==============================] - 6s 4ms/step - loss: 0.1091 - accuracy: 0.9597 - val_loss: 0.4288 - val_accuracy: 0.8909\n",
            "Epoch 43/100\n",
            "1500/1500 [==============================] - 5s 3ms/step - loss: 0.1023 - accuracy: 0.9617 - val_loss: 0.4491 - val_accuracy: 0.8917\n",
            "Epoch 44/100\n",
            "1500/1500 [==============================] - 6s 4ms/step - loss: 0.1019 - accuracy: 0.9620 - val_loss: 0.4301 - val_accuracy: 0.8932\n",
            "Epoch 45/100\n",
            "1500/1500 [==============================] - 5s 3ms/step - loss: 0.0973 - accuracy: 0.9641 - val_loss: 0.4569 - val_accuracy: 0.8891\n",
            "Epoch 46/100\n",
            "1500/1500 [==============================] - 5s 3ms/step - loss: 0.0982 - accuracy: 0.9631 - val_loss: 0.4473 - val_accuracy: 0.8948\n",
            "Epoch 47/100\n",
            "1500/1500 [==============================] - 5s 3ms/step - loss: 0.0949 - accuracy: 0.9650 - val_loss: 0.4568 - val_accuracy: 0.8898\n",
            "Epoch 48/100\n",
            "1500/1500 [==============================] - 6s 4ms/step - loss: 0.0945 - accuracy: 0.9646 - val_loss: 0.4603 - val_accuracy: 0.8947\n",
            "Epoch 49/100\n",
            "1500/1500 [==============================] - 6s 4ms/step - loss: 0.0928 - accuracy: 0.9655 - val_loss: 0.4956 - val_accuracy: 0.8877\n",
            "Epoch 50/100\n",
            "1500/1500 [==============================] - 5s 3ms/step - loss: 0.0893 - accuracy: 0.9664 - val_loss: 0.4676 - val_accuracy: 0.8954\n",
            "Epoch 51/100\n",
            "1500/1500 [==============================] - 6s 4ms/step - loss: 0.0891 - accuracy: 0.9674 - val_loss: 0.5013 - val_accuracy: 0.8913\n",
            "Epoch 52/100\n",
            "1500/1500 [==============================] - 5s 3ms/step - loss: 0.0882 - accuracy: 0.9659 - val_loss: 0.5125 - val_accuracy: 0.8845\n",
            "Epoch 53/100\n",
            "1500/1500 [==============================] - 6s 4ms/step - loss: 0.0869 - accuracy: 0.9681 - val_loss: 0.4980 - val_accuracy: 0.8918\n",
            "Epoch 54/100\n",
            "1500/1500 [==============================] - 6s 4ms/step - loss: 0.0855 - accuracy: 0.9681 - val_loss: 0.5074 - val_accuracy: 0.8904\n",
            "Epoch 55/100\n",
            "1500/1500 [==============================] - 5s 3ms/step - loss: 0.0788 - accuracy: 0.9703 - val_loss: 0.4998 - val_accuracy: 0.8938\n",
            "Epoch 56/100\n",
            "1500/1500 [==============================] - 5s 3ms/step - loss: 0.0807 - accuracy: 0.9699 - val_loss: 0.5045 - val_accuracy: 0.8931\n",
            "Epoch 57/100\n",
            "1500/1500 [==============================] - 6s 4ms/step - loss: 0.0807 - accuracy: 0.9700 - val_loss: 0.4926 - val_accuracy: 0.8903\n",
            "Epoch 58/100\n",
            "1500/1500 [==============================] - 5s 3ms/step - loss: 0.0773 - accuracy: 0.9712 - val_loss: 0.4937 - val_accuracy: 0.8972\n",
            "Epoch 59/100\n",
            "1500/1500 [==============================] - 6s 4ms/step - loss: 0.0775 - accuracy: 0.9709 - val_loss: 0.5591 - val_accuracy: 0.8932\n",
            "Epoch 60/100\n",
            "1500/1500 [==============================] - 6s 4ms/step - loss: 0.0781 - accuracy: 0.9710 - val_loss: 0.5282 - val_accuracy: 0.8926\n",
            "Epoch 61/100\n",
            "1500/1500 [==============================] - 5s 3ms/step - loss: 0.0740 - accuracy: 0.9730 - val_loss: 0.5818 - val_accuracy: 0.8856\n",
            "Epoch 62/100\n",
            "1500/1500 [==============================] - 5s 4ms/step - loss: 0.0723 - accuracy: 0.9727 - val_loss: 0.5293 - val_accuracy: 0.8907\n",
            "Epoch 63/100\n",
            "1500/1500 [==============================] - 5s 3ms/step - loss: 0.0728 - accuracy: 0.9731 - val_loss: 0.5638 - val_accuracy: 0.8898\n",
            "Epoch 64/100\n",
            "1500/1500 [==============================] - 5s 3ms/step - loss: 0.0699 - accuracy: 0.9741 - val_loss: 0.5318 - val_accuracy: 0.8924\n",
            "Epoch 65/100\n",
            "1500/1500 [==============================] - 6s 4ms/step - loss: 0.0702 - accuracy: 0.9737 - val_loss: 0.5549 - val_accuracy: 0.8936\n",
            "Epoch 66/100\n",
            "1500/1500 [==============================] - 6s 4ms/step - loss: 0.0690 - accuracy: 0.9741 - val_loss: 0.5657 - val_accuracy: 0.8894\n",
            "Epoch 67/100\n",
            "1500/1500 [==============================] - 6s 4ms/step - loss: 0.0696 - accuracy: 0.9739 - val_loss: 0.5585 - val_accuracy: 0.8888\n",
            "Epoch 68/100\n",
            "1500/1500 [==============================] - 6s 4ms/step - loss: 0.0653 - accuracy: 0.9755 - val_loss: 0.5894 - val_accuracy: 0.8849\n",
            "Epoch 69/100\n",
            "1500/1500 [==============================] - 5s 4ms/step - loss: 0.0669 - accuracy: 0.9751 - val_loss: 0.5610 - val_accuracy: 0.8957\n",
            "Epoch 70/100\n",
            "1500/1500 [==============================] - 5s 3ms/step - loss: 0.0645 - accuracy: 0.9759 - val_loss: 0.6198 - val_accuracy: 0.8888\n",
            "Epoch 71/100\n",
            "1500/1500 [==============================] - 6s 4ms/step - loss: 0.0668 - accuracy: 0.9758 - val_loss: 0.5699 - val_accuracy: 0.8896\n",
            "Epoch 72/100\n",
            "1500/1500 [==============================] - 5s 3ms/step - loss: 0.0612 - accuracy: 0.9776 - val_loss: 0.5851 - val_accuracy: 0.8917\n",
            "Epoch 73/100\n",
            "1500/1500 [==============================] - 6s 4ms/step - loss: 0.0641 - accuracy: 0.9761 - val_loss: 0.6279 - val_accuracy: 0.8873\n",
            "Epoch 74/100\n",
            "1500/1500 [==============================] - 6s 4ms/step - loss: 0.0598 - accuracy: 0.9781 - val_loss: 0.6266 - val_accuracy: 0.8898\n",
            "Epoch 75/100\n",
            "1500/1500 [==============================] - 5s 3ms/step - loss: 0.0604 - accuracy: 0.9772 - val_loss: 0.6060 - val_accuracy: 0.8898\n",
            "Epoch 76/100\n",
            "1500/1500 [==============================] - 5s 3ms/step - loss: 0.0634 - accuracy: 0.9771 - val_loss: 0.6367 - val_accuracy: 0.8852\n",
            "Epoch 77/100\n",
            "1500/1500 [==============================] - 6s 4ms/step - loss: 0.0579 - accuracy: 0.9787 - val_loss: 0.6176 - val_accuracy: 0.8899\n",
            "Epoch 78/100\n",
            "1500/1500 [==============================] - 5s 3ms/step - loss: 0.0583 - accuracy: 0.9784 - val_loss: 0.6089 - val_accuracy: 0.8923\n",
            "Epoch 79/100\n",
            "1500/1500 [==============================] - 6s 4ms/step - loss: 0.0588 - accuracy: 0.9783 - val_loss: 0.6438 - val_accuracy: 0.8902\n",
            "Epoch 80/100\n",
            "1500/1500 [==============================] - 5s 3ms/step - loss: 0.0583 - accuracy: 0.9781 - val_loss: 0.6587 - val_accuracy: 0.8844\n",
            "Epoch 81/100\n",
            "1500/1500 [==============================] - 6s 4ms/step - loss: 0.0564 - accuracy: 0.9790 - val_loss: 0.6735 - val_accuracy: 0.8824\n",
            "Epoch 82/100\n",
            "1500/1500 [==============================] - 5s 3ms/step - loss: 0.0534 - accuracy: 0.9799 - val_loss: 0.6246 - val_accuracy: 0.8944\n",
            "Epoch 83/100\n",
            "1500/1500 [==============================] - 6s 4ms/step - loss: 0.0592 - accuracy: 0.9781 - val_loss: 0.6502 - val_accuracy: 0.8912\n",
            "Epoch 84/100\n",
            "1500/1500 [==============================] - 6s 4ms/step - loss: 0.0547 - accuracy: 0.9798 - val_loss: 0.6514 - val_accuracy: 0.8898\n",
            "Epoch 85/100\n",
            "1500/1500 [==============================] - 5s 3ms/step - loss: 0.0545 - accuracy: 0.9800 - val_loss: 0.6611 - val_accuracy: 0.8856\n",
            "Epoch 86/100\n",
            "1500/1500 [==============================] - 6s 4ms/step - loss: 0.0533 - accuracy: 0.9797 - val_loss: 0.6719 - val_accuracy: 0.8939\n",
            "Epoch 87/100\n",
            "1500/1500 [==============================] - 5s 3ms/step - loss: 0.0534 - accuracy: 0.9793 - val_loss: 0.6786 - val_accuracy: 0.8878\n",
            "Epoch 88/100\n",
            "1500/1500 [==============================] - 5s 3ms/step - loss: 0.0506 - accuracy: 0.9821 - val_loss: 0.6777 - val_accuracy: 0.8923\n",
            "Epoch 89/100\n",
            "1500/1500 [==============================] - 5s 3ms/step - loss: 0.0538 - accuracy: 0.9797 - val_loss: 0.7357 - val_accuracy: 0.8852\n",
            "Epoch 90/100\n",
            "1500/1500 [==============================] - 5s 3ms/step - loss: 0.0494 - accuracy: 0.9821 - val_loss: 0.6528 - val_accuracy: 0.8916\n",
            "Epoch 91/100\n",
            "1500/1500 [==============================] - 5s 3ms/step - loss: 0.0483 - accuracy: 0.9821 - val_loss: 0.7188 - val_accuracy: 0.8895\n",
            "Epoch 92/100\n",
            "1500/1500 [==============================] - 5s 3ms/step - loss: 0.0509 - accuracy: 0.9807 - val_loss: 0.6982 - val_accuracy: 0.8923\n",
            "Epoch 93/100\n",
            "1500/1500 [==============================] - 5s 3ms/step - loss: 0.0493 - accuracy: 0.9807 - val_loss: 0.7063 - val_accuracy: 0.8879\n",
            "Epoch 94/100\n",
            "1500/1500 [==============================] - 6s 4ms/step - loss: 0.0487 - accuracy: 0.9829 - val_loss: 0.7002 - val_accuracy: 0.8901\n",
            "Epoch 95/100\n",
            "1500/1500 [==============================] - 6s 4ms/step - loss: 0.0496 - accuracy: 0.9825 - val_loss: 0.7042 - val_accuracy: 0.8913\n",
            "Epoch 96/100\n",
            "1500/1500 [==============================] - 5s 3ms/step - loss: 0.0473 - accuracy: 0.9827 - val_loss: 0.7499 - val_accuracy: 0.8842\n",
            "Epoch 97/100\n",
            "1500/1500 [==============================] - 6s 4ms/step - loss: 0.0503 - accuracy: 0.9813 - val_loss: 0.7357 - val_accuracy: 0.8915\n",
            "Epoch 98/100\n",
            "1500/1500 [==============================] - 5s 3ms/step - loss: 0.0420 - accuracy: 0.9849 - val_loss: 0.7331 - val_accuracy: 0.8910\n",
            "Epoch 99/100\n",
            "1500/1500 [==============================] - 6s 4ms/step - loss: 0.0463 - accuracy: 0.9826 - val_loss: 0.7388 - val_accuracy: 0.8873\n",
            "Epoch 100/100\n",
            "1500/1500 [==============================] - 6s 4ms/step - loss: 0.0501 - accuracy: 0.9826 - val_loss: 0.7058 - val_accuracy: 0.8922\n"
          ]
        }
      ]
    },
    {
      "cell_type": "code",
      "source": [
        "visualize_metrics(hist2)"
      ],
      "metadata": {
        "colab": {
          "base_uri": "https://localhost:8080/",
          "height": 320
        },
        "id": "ctLI2zH86u2f",
        "outputId": "ae1c8ee7-39d9-477e-91c4-11e6adf618c0"
      },
      "execution_count": 153,
      "outputs": [
        {
          "output_type": "display_data",
          "data": {
            "text/plain": [
              "<Figure size 864x360 with 2 Axes>"
            ],
            "image/png": "[encoded data removed]"
          },
          "metadata": {
            "needs_background": "light"
          }
        }
      ]
    },
    {
      "cell_type": "markdown",
      "source": [
        "This is the perfect example of overfitting. Our model become so good in predicting training data, but worse when predicting data that it's never seen before"
      ],
      "metadata": {
        "id": "WM8Iz-cN9Aj_"
      }
    },
    {
      "cell_type": "markdown",
      "source": [
        "## Improvising Computer Vision with CNN"
      ],
      "metadata": {
        "id": "YdxHD_dl9Q8i"
      }
    },
    {
      "cell_type": "code",
      "source": [
        "cnn_model = tf.keras.models.Sequential([\n",
        "  tf.keras.layers.Conv2D(64, (3,3), activation='relu', input_shape=(28, 28, 1)),\n",
        "  tf.keras.layers.MaxPooling2D(2, 2),\n",
        "  tf.keras.layers.Conv2D(64, (3,3), activation='relu'),\n",
        "  tf.keras.layers.MaxPooling2D(2,2),\n",
        "  tf.keras.layers.Flatten(),\n",
        "  tf.keras.layers.Dense(128, activation='relu'),\n",
        "  tf.keras.layers.Dense(10, activation='softmax')\n",
        "])\n",
        "cnn_model.compile(optimizer='adam', loss='sparse_categorical_crossentropy', metrics=['accuracy'])\n",
        "cnn_model.summary()"
      ],
      "metadata": {
        "colab": {
          "base_uri": "https://localhost:8080/"
        },
        "id": "tr0QohVk83fz",
        "outputId": "defec62c-0dfe-4b79-d3ca-65428894ad25"
      },
      "execution_count": 5,
      "outputs": [
        {
          "output_type": "stream",
          "name": "stdout",
          "text": [
            "Model: \"sequential\"\n",
            "_________________________________________________________________\n",
            " Layer (type)                Output Shape              Param #   \n",
            "=================================================================\n",
            " conv2d (Conv2D)             (None, 26, 26, 64)        640       \n",
            "                                                                 \n",
            " max_pooling2d (MaxPooling2D  (None, 13, 13, 64)       0         \n",
            " )                                                               \n",
            "                                                                 \n",
            " conv2d_1 (Conv2D)           (None, 11, 11, 64)        36928     \n",
            "                                                                 \n",
            " max_pooling2d_1 (MaxPooling  (None, 5, 5, 64)         0         \n",
            " 2D)                                                             \n",
            "                                                                 \n",
            " flatten (Flatten)           (None, 1600)              0         \n",
            "                                                                 \n",
            " dense (Dense)               (None, 128)               204928    \n",
            "                                                                 \n",
            " dense_1 (Dense)             (None, 10)                1290      \n",
            "                                                                 \n",
            "=================================================================\n",
            "Total params: 243,786\n",
            "Trainable params: 243,786\n",
            "Non-trainable params: 0\n",
            "_________________________________________________________________\n"
          ]
        }
      ]
    },
    {
      "cell_type": "code",
      "source": [
        "hist = cnn_model.fit(training_images, training_labels, validation_split=0.2, epochs=5)"
      ],
      "metadata": {
        "colab": {
          "base_uri": "https://localhost:8080/"
        },
        "id": "vOXLJz0O-qpH",
        "outputId": "bc8da976-e4ea-454e-82cd-0ce4dac97fd6"
      },
      "execution_count": 157,
      "outputs": [
        {
          "output_type": "stream",
          "name": "stdout",
          "text": [
            "Epoch 1/5\n",
            "1500/1500 [==============================] - 21s 9ms/step - loss: 0.4682 - accuracy: 0.8286 - val_loss: 0.3457 - val_accuracy: 0.8748\n",
            "Epoch 2/5\n",
            "1500/1500 [==============================] - 13s 9ms/step - loss: 0.3106 - accuracy: 0.8847 - val_loss: 0.2959 - val_accuracy: 0.8929\n",
            "Epoch 3/5\n",
            "1500/1500 [==============================] - 13s 9ms/step - loss: 0.2636 - accuracy: 0.9025 - val_loss: 0.2716 - val_accuracy: 0.8997\n",
            "Epoch 4/5\n",
            "1500/1500 [==============================] - 14s 9ms/step - loss: 0.2290 - accuracy: 0.9154 - val_loss: 0.2556 - val_accuracy: 0.9056\n",
            "Epoch 5/5\n",
            "1500/1500 [==============================] - 15s 10ms/step - loss: 0.1996 - accuracy: 0.9254 - val_loss: 0.2704 - val_accuracy: 0.9070\n"
          ]
        }
      ]
    },
    {
      "cell_type": "markdown",
      "source": [
        "it's even reach accuracy on 90% just after 4 epochs"
      ],
      "metadata": {
        "id": "NezW6yV1_NT4"
      }
    },
    {
      "cell_type": "code",
      "source": [
        "visualize_metrics(hist)"
      ],
      "metadata": {
        "colab": {
          "base_uri": "https://localhost:8080/",
          "height": 320
        },
        "id": "l2LElM-1-5f7",
        "outputId": "e3a83548-cc5b-4351-db5a-d936b1c65d2f"
      },
      "execution_count": 158,
      "outputs": [
        {
          "output_type": "display_data",
          "data": {
            "text/plain": [
              "<Figure size 864x360 with 2 Axes>"
            ],
            "image/png": "[encoded data removed]"
          },
          "metadata": {
            "needs_background": "light"
          }
        }
      ]
    },
    {
      "cell_type": "code",
      "source": [
        "hist2 = cnn_model.fit(training_images, training_labels, batch_size=64, validation_split=0.2, epochs=100)"
      ],
      "metadata": {
        "colab": {
          "base_uri": "https://localhost:8080/"
        },
        "id": "h0MTt7av_TxG",
        "outputId": "23bc1aa4-e55f-4da0-b5d0-4d8adb51ed68"
      },
      "execution_count": 6,
      "outputs": [
        {
          "output_type": "stream",
          "name": "stdout",
          "text": [
            "Epoch 1/100\n",
            "750/750 [==============================] - 9s 10ms/step - loss: 0.7746 - accuracy: 0.8091 - val_loss: 0.3800 - val_accuracy: 0.8621\n",
            "Epoch 2/100\n",
            "750/750 [==============================] - 7s 10ms/step - loss: 0.3446 - accuracy: 0.8741 - val_loss: 0.3238 - val_accuracy: 0.8836\n",
            "Epoch 3/100\n",
            "750/750 [==============================] - 7s 10ms/step - loss: 0.2933 - accuracy: 0.8912 - val_loss: 0.3292 - val_accuracy: 0.8827\n",
            "Epoch 4/100\n",
            "750/750 [==============================] - 7s 9ms/step - loss: 0.2658 - accuracy: 0.8998 - val_loss: 0.2924 - val_accuracy: 0.8927\n",
            "Epoch 5/100\n",
            "750/750 [==============================] - 7s 10ms/step - loss: 0.2446 - accuracy: 0.9064 - val_loss: 0.3190 - val_accuracy: 0.8867\n",
            "Epoch 6/100\n",
            "750/750 [==============================] - 8s 11ms/step - loss: 0.2295 - accuracy: 0.9138 - val_loss: 0.3135 - val_accuracy: 0.8886\n",
            "Epoch 7/100\n",
            "750/750 [==============================] - 7s 9ms/step - loss: 0.2155 - accuracy: 0.9194 - val_loss: 0.3014 - val_accuracy: 0.8973\n",
            "Epoch 8/100\n",
            "750/750 [==============================] - 7s 10ms/step - loss: 0.1973 - accuracy: 0.9258 - val_loss: 0.3222 - val_accuracy: 0.8923\n",
            "Epoch 9/100\n",
            "750/750 [==============================] - 7s 10ms/step - loss: 0.1894 - accuracy: 0.9273 - val_loss: 0.3278 - val_accuracy: 0.8933\n",
            "Epoch 10/100\n",
            "750/750 [==============================] - 7s 9ms/step - loss: 0.1757 - accuracy: 0.9330 - val_loss: 0.3342 - val_accuracy: 0.8891\n",
            "Epoch 11/100\n",
            "750/750 [==============================] - 7s 10ms/step - loss: 0.1626 - accuracy: 0.9400 - val_loss: 0.3726 - val_accuracy: 0.8892\n",
            "Epoch 12/100\n",
            "750/750 [==============================] - 7s 10ms/step - loss: 0.1501 - accuracy: 0.9437 - val_loss: 0.3626 - val_accuracy: 0.8942\n",
            "Epoch 13/100\n",
            "750/750 [==============================] - 7s 10ms/step - loss: 0.1393 - accuracy: 0.9474 - val_loss: 0.4130 - val_accuracy: 0.8923\n",
            "Epoch 14/100\n",
            "750/750 [==============================] - 7s 9ms/step - loss: 0.1319 - accuracy: 0.9496 - val_loss: 0.4036 - val_accuracy: 0.8891\n",
            "Epoch 15/100\n",
            "750/750 [==============================] - 7s 9ms/step - loss: 0.1221 - accuracy: 0.9538 - val_loss: 0.3950 - val_accuracy: 0.8960\n",
            "Epoch 16/100\n",
            "750/750 [==============================] - 7s 10ms/step - loss: 0.1226 - accuracy: 0.9533 - val_loss: 0.4515 - val_accuracy: 0.8878\n",
            "Epoch 17/100\n",
            "750/750 [==============================] - 7s 10ms/step - loss: 0.1046 - accuracy: 0.9610 - val_loss: 0.4411 - val_accuracy: 0.8924\n",
            "Epoch 18/100\n",
            "750/750 [==============================] - 7s 10ms/step - loss: 0.0968 - accuracy: 0.9643 - val_loss: 0.4758 - val_accuracy: 0.8911\n",
            "Epoch 19/100\n",
            "750/750 [==============================] - 7s 9ms/step - loss: 0.1047 - accuracy: 0.9617 - val_loss: 0.4877 - val_accuracy: 0.8897\n",
            "Epoch 20/100\n",
            "750/750 [==============================] - 7s 10ms/step - loss: 0.0930 - accuracy: 0.9653 - val_loss: 0.4922 - val_accuracy: 0.8947\n",
            "Epoch 21/100\n",
            "750/750 [==============================] - 7s 10ms/step - loss: 0.0861 - accuracy: 0.9681 - val_loss: 0.5119 - val_accuracy: 0.9006\n",
            "Epoch 22/100\n",
            "750/750 [==============================] - 7s 10ms/step - loss: 0.0833 - accuracy: 0.9697 - val_loss: 0.5210 - val_accuracy: 0.8953\n",
            "Epoch 23/100\n",
            "750/750 [==============================] - 7s 9ms/step - loss: 0.0797 - accuracy: 0.9712 - val_loss: 0.5492 - val_accuracy: 0.8927\n",
            "Epoch 24/100\n",
            "750/750 [==============================] - 7s 10ms/step - loss: 0.0765 - accuracy: 0.9723 - val_loss: 0.5875 - val_accuracy: 0.8932\n",
            "Epoch 25/100\n",
            "750/750 [==============================] - 7s 9ms/step - loss: 0.0775 - accuracy: 0.9731 - val_loss: 0.6262 - val_accuracy: 0.8940\n",
            "Epoch 26/100\n",
            "750/750 [==============================] - 7s 9ms/step - loss: 0.0688 - accuracy: 0.9760 - val_loss: 0.6811 - val_accuracy: 0.8953\n",
            "Epoch 27/100\n",
            "750/750 [==============================] - 7s 9ms/step - loss: 0.0671 - accuracy: 0.9762 - val_loss: 0.6454 - val_accuracy: 0.8950\n",
            "Epoch 28/100\n",
            "750/750 [==============================] - 7s 9ms/step - loss: 0.0587 - accuracy: 0.9794 - val_loss: 0.6140 - val_accuracy: 0.8917\n",
            "Epoch 29/100\n",
            "750/750 [==============================] - 7s 9ms/step - loss: 0.0641 - accuracy: 0.9778 - val_loss: 0.7284 - val_accuracy: 0.8867\n",
            "Epoch 30/100\n",
            "750/750 [==============================] - 7s 9ms/step - loss: 0.0619 - accuracy: 0.9786 - val_loss: 0.7499 - val_accuracy: 0.8931\n",
            "Epoch 31/100\n",
            "750/750 [==============================] - 7s 9ms/step - loss: 0.0568 - accuracy: 0.9807 - val_loss: 0.7680 - val_accuracy: 0.8924\n",
            "Epoch 32/100\n",
            "750/750 [==============================] - 7s 9ms/step - loss: 0.0603 - accuracy: 0.9800 - val_loss: 0.7433 - val_accuracy: 0.8925\n",
            "Epoch 33/100\n",
            "750/750 [==============================] - 7s 10ms/step - loss: 0.0554 - accuracy: 0.9811 - val_loss: 0.7570 - val_accuracy: 0.8947\n",
            "Epoch 34/100\n",
            "750/750 [==============================] - 7s 10ms/step - loss: 0.0539 - accuracy: 0.9821 - val_loss: 0.8685 - val_accuracy: 0.8904\n",
            "Epoch 35/100\n",
            "750/750 [==============================] - 7s 9ms/step - loss: 0.0506 - accuracy: 0.9823 - val_loss: 0.8027 - val_accuracy: 0.8963\n",
            "Epoch 36/100\n",
            "750/750 [==============================] - 7s 9ms/step - loss: 0.0550 - accuracy: 0.9818 - val_loss: 0.8314 - val_accuracy: 0.8927\n",
            "Epoch 37/100\n",
            "750/750 [==============================] - 7s 10ms/step - loss: 0.0511 - accuracy: 0.9830 - val_loss: 0.8679 - val_accuracy: 0.8985\n",
            "Epoch 38/100\n",
            "750/750 [==============================] - 7s 9ms/step - loss: 0.0477 - accuracy: 0.9845 - val_loss: 0.8937 - val_accuracy: 0.8966\n",
            "Epoch 39/100\n",
            "750/750 [==============================] - 7s 9ms/step - loss: 0.0606 - accuracy: 0.9817 - val_loss: 0.9667 - val_accuracy: 0.8906\n",
            "Epoch 40/100\n",
            "750/750 [==============================] - 7s 9ms/step - loss: 0.0519 - accuracy: 0.9836 - val_loss: 0.9628 - val_accuracy: 0.8947\n",
            "Epoch 41/100\n",
            "750/750 [==============================] - 7s 10ms/step - loss: 0.0387 - accuracy: 0.9876 - val_loss: 0.9375 - val_accuracy: 0.8878\n",
            "Epoch 42/100\n",
            "750/750 [==============================] - 7s 10ms/step - loss: 0.0534 - accuracy: 0.9837 - val_loss: 1.0253 - val_accuracy: 0.8947\n",
            "Epoch 43/100\n",
            "750/750 [==============================] - 7s 10ms/step - loss: 0.0515 - accuracy: 0.9840 - val_loss: 1.0064 - val_accuracy: 0.8911\n",
            "Epoch 44/100\n",
            "750/750 [==============================] - 7s 9ms/step - loss: 0.0493 - accuracy: 0.9839 - val_loss: 0.9847 - val_accuracy: 0.8966\n",
            "Epoch 45/100\n",
            "750/750 [==============================] - 7s 10ms/step - loss: 0.0406 - accuracy: 0.9868 - val_loss: 1.0353 - val_accuracy: 0.8932\n",
            "Epoch 46/100\n",
            "750/750 [==============================] - 7s 9ms/step - loss: 0.0538 - accuracy: 0.9849 - val_loss: 1.1454 - val_accuracy: 0.8834\n",
            "Epoch 47/100\n",
            "750/750 [==============================] - 7s 9ms/step - loss: 0.0488 - accuracy: 0.9854 - val_loss: 1.1343 - val_accuracy: 0.8910\n",
            "Epoch 48/100\n",
            "750/750 [==============================] - 7s 9ms/step - loss: 0.0526 - accuracy: 0.9848 - val_loss: 1.0821 - val_accuracy: 0.8967\n",
            "Epoch 49/100\n",
            "750/750 [==============================] - 7s 9ms/step - loss: 0.0449 - accuracy: 0.9867 - val_loss: 1.1221 - val_accuracy: 0.8892\n",
            "Epoch 50/100\n",
            "750/750 [==============================] - 7s 9ms/step - loss: 0.0364 - accuracy: 0.9883 - val_loss: 1.0793 - val_accuracy: 0.8984\n",
            "Epoch 51/100\n",
            "750/750 [==============================] - 7s 9ms/step - loss: 0.0493 - accuracy: 0.9858 - val_loss: 1.1415 - val_accuracy: 0.8925\n",
            "Epoch 52/100\n",
            "750/750 [==============================] - 7s 10ms/step - loss: 0.0422 - accuracy: 0.9867 - val_loss: 1.1438 - val_accuracy: 0.8940\n",
            "Epoch 53/100\n",
            "750/750 [==============================] - 7s 10ms/step - loss: 0.0398 - accuracy: 0.9890 - val_loss: 1.1747 - val_accuracy: 0.8936\n",
            "Epoch 54/100\n",
            "750/750 [==============================] - 7s 9ms/step - loss: 0.0450 - accuracy: 0.9873 - val_loss: 1.1106 - val_accuracy: 0.8917\n",
            "Epoch 55/100\n",
            "750/750 [==============================] - 7s 10ms/step - loss: 0.0405 - accuracy: 0.9883 - val_loss: 1.1860 - val_accuracy: 0.8930\n",
            "Epoch 56/100\n",
            "750/750 [==============================] - 7s 10ms/step - loss: 0.0324 - accuracy: 0.9898 - val_loss: 1.2611 - val_accuracy: 0.8992\n",
            "Epoch 57/100\n",
            "750/750 [==============================] - 7s 10ms/step - loss: 0.0511 - accuracy: 0.9869 - val_loss: 1.2352 - val_accuracy: 0.8941\n",
            "Epoch 58/100\n",
            "750/750 [==============================] - 7s 9ms/step - loss: 0.0365 - accuracy: 0.9884 - val_loss: 1.1768 - val_accuracy: 0.8954\n",
            "Epoch 59/100\n",
            "750/750 [==============================] - 7s 10ms/step - loss: 0.0579 - accuracy: 0.9853 - val_loss: 1.2402 - val_accuracy: 0.8948\n",
            "Epoch 60/100\n",
            "750/750 [==============================] - 7s 9ms/step - loss: 0.0375 - accuracy: 0.9898 - val_loss: 1.2533 - val_accuracy: 0.8956\n",
            "Epoch 61/100\n",
            "750/750 [==============================] - 7s 9ms/step - loss: 0.0453 - accuracy: 0.9880 - val_loss: 1.3283 - val_accuracy: 0.8907\n",
            "Epoch 62/100\n",
            "750/750 [==============================] - 7s 9ms/step - loss: 0.0384 - accuracy: 0.9894 - val_loss: 1.3211 - val_accuracy: 0.8992\n",
            "Epoch 63/100\n",
            "750/750 [==============================] - 7s 9ms/step - loss: 0.0307 - accuracy: 0.9905 - val_loss: 1.4379 - val_accuracy: 0.8939\n",
            "Epoch 64/100\n",
            "750/750 [==============================] - 7s 9ms/step - loss: 0.0535 - accuracy: 0.9866 - val_loss: 1.3232 - val_accuracy: 0.8925\n",
            "Epoch 65/100\n",
            "750/750 [==============================] - 7s 9ms/step - loss: 0.0397 - accuracy: 0.9885 - val_loss: 1.4138 - val_accuracy: 0.8931\n",
            "Epoch 66/100\n",
            "750/750 [==============================] - 7s 9ms/step - loss: 0.0369 - accuracy: 0.9896 - val_loss: 1.3344 - val_accuracy: 0.8960\n",
            "Epoch 67/100\n",
            "750/750 [==============================] - 7s 10ms/step - loss: 0.0314 - accuracy: 0.9918 - val_loss: 1.5071 - val_accuracy: 0.8915\n",
            "Epoch 68/100\n",
            "750/750 [==============================] - 7s 9ms/step - loss: 0.0610 - accuracy: 0.9869 - val_loss: 1.4607 - val_accuracy: 0.8954\n",
            "Epoch 69/100\n",
            "750/750 [==============================] - 7s 10ms/step - loss: 0.0368 - accuracy: 0.9902 - val_loss: 1.4942 - val_accuracy: 0.8955\n",
            "Epoch 70/100\n",
            "750/750 [==============================] - 7s 9ms/step - loss: 0.0328 - accuracy: 0.9910 - val_loss: 1.4999 - val_accuracy: 0.8928\n",
            "Epoch 71/100\n",
            "750/750 [==============================] - 7s 10ms/step - loss: 0.0395 - accuracy: 0.9894 - val_loss: 1.5731 - val_accuracy: 0.8920\n",
            "Epoch 72/100\n",
            "750/750 [==============================] - 7s 9ms/step - loss: 0.0494 - accuracy: 0.9882 - val_loss: 1.5697 - val_accuracy: 0.8917\n",
            "Epoch 73/100\n",
            "750/750 [==============================] - 7s 10ms/step - loss: 0.0457 - accuracy: 0.9895 - val_loss: 1.5616 - val_accuracy: 0.8925\n",
            "Epoch 74/100\n",
            "750/750 [==============================] - 7s 10ms/step - loss: 0.0397 - accuracy: 0.9901 - val_loss: 1.6491 - val_accuracy: 0.8933\n",
            "Epoch 75/100\n",
            "750/750 [==============================] - 7s 9ms/step - loss: 0.0322 - accuracy: 0.9909 - val_loss: 1.6412 - val_accuracy: 0.8949\n",
            "Epoch 76/100\n",
            "750/750 [==============================] - 7s 9ms/step - loss: 0.0273 - accuracy: 0.9923 - val_loss: 1.8212 - val_accuracy: 0.8880\n",
            "Epoch 77/100\n",
            "750/750 [==============================] - 7s 10ms/step - loss: 0.0371 - accuracy: 0.9906 - val_loss: 1.7214 - val_accuracy: 0.8932\n",
            "Epoch 78/100\n",
            "750/750 [==============================] - 7s 9ms/step - loss: 0.0383 - accuracy: 0.9901 - val_loss: 1.7780 - val_accuracy: 0.8917\n",
            "Epoch 79/100\n",
            "750/750 [==============================] - 7s 9ms/step - loss: 0.0510 - accuracy: 0.9879 - val_loss: 1.6761 - val_accuracy: 0.8942\n",
            "Epoch 80/100\n",
            "750/750 [==============================] - 7s 9ms/step - loss: 0.0545 - accuracy: 0.9880 - val_loss: 1.8365 - val_accuracy: 0.8928\n",
            "Epoch 81/100\n",
            "750/750 [==============================] - 7s 9ms/step - loss: 0.0295 - accuracy: 0.9929 - val_loss: 1.6979 - val_accuracy: 0.8959\n",
            "Epoch 82/100\n",
            "750/750 [==============================] - 7s 9ms/step - loss: 0.0378 - accuracy: 0.9912 - val_loss: 1.6713 - val_accuracy: 0.8928\n",
            "Epoch 83/100\n",
            "750/750 [==============================] - 7s 9ms/step - loss: 0.0366 - accuracy: 0.9912 - val_loss: 1.8047 - val_accuracy: 0.8926\n",
            "Epoch 84/100\n",
            "750/750 [==============================] - 7s 10ms/step - loss: 0.0344 - accuracy: 0.9909 - val_loss: 1.9145 - val_accuracy: 0.8932\n",
            "Epoch 85/100\n",
            "750/750 [==============================] - 7s 10ms/step - loss: 0.0298 - accuracy: 0.9926 - val_loss: 1.7595 - val_accuracy: 0.8913\n",
            "Epoch 86/100\n",
            "750/750 [==============================] - 7s 9ms/step - loss: 0.0563 - accuracy: 0.9890 - val_loss: 2.0214 - val_accuracy: 0.8964\n",
            "Epoch 87/100\n",
            "750/750 [==============================] - 7s 9ms/step - loss: 0.0341 - accuracy: 0.9922 - val_loss: 1.8537 - val_accuracy: 0.8942\n",
            "Epoch 88/100\n",
            "750/750 [==============================] - 7s 10ms/step - loss: 0.0415 - accuracy: 0.9906 - val_loss: 1.9231 - val_accuracy: 0.8935\n",
            "Epoch 89/100\n",
            "750/750 [==============================] - 7s 9ms/step - loss: 0.0322 - accuracy: 0.9929 - val_loss: 2.0958 - val_accuracy: 0.8913\n",
            "Epoch 90/100\n",
            "750/750 [==============================] - 7s 9ms/step - loss: 0.0352 - accuracy: 0.9922 - val_loss: 1.8771 - val_accuracy: 0.8975\n",
            "Epoch 91/100\n",
            "750/750 [==============================] - 7s 9ms/step - loss: 0.0327 - accuracy: 0.9925 - val_loss: 2.1008 - val_accuracy: 0.8929\n",
            "Epoch 92/100\n",
            "750/750 [==============================] - 7s 10ms/step - loss: 0.0471 - accuracy: 0.9900 - val_loss: 2.0245 - val_accuracy: 0.8930\n",
            "Epoch 93/100\n",
            "750/750 [==============================] - 7s 9ms/step - loss: 0.0355 - accuracy: 0.9923 - val_loss: 1.8890 - val_accuracy: 0.8974\n",
            "Epoch 94/100\n",
            "750/750 [==============================] - 7s 9ms/step - loss: 0.0336 - accuracy: 0.9918 - val_loss: 1.9437 - val_accuracy: 0.8930\n",
            "Epoch 95/100\n",
            "750/750 [==============================] - 7s 10ms/step - loss: 0.0328 - accuracy: 0.9924 - val_loss: 2.0778 - val_accuracy: 0.8925\n",
            "Epoch 96/100\n",
            "750/750 [==============================] - 7s 10ms/step - loss: 0.0419 - accuracy: 0.9904 - val_loss: 2.0396 - val_accuracy: 0.8969\n",
            "Epoch 97/100\n",
            "750/750 [==============================] - 7s 10ms/step - loss: 0.0348 - accuracy: 0.9921 - val_loss: 2.1105 - val_accuracy: 0.8904\n",
            "Epoch 98/100\n",
            "750/750 [==============================] - 7s 9ms/step - loss: 0.0445 - accuracy: 0.9905 - val_loss: 2.1568 - val_accuracy: 0.8948\n",
            "Epoch 99/100\n",
            "750/750 [==============================] - 7s 9ms/step - loss: 0.0354 - accuracy: 0.9923 - val_loss: 2.1963 - val_accuracy: 0.8930\n",
            "Epoch 100/100\n",
            "750/750 [==============================] - 7s 9ms/step - loss: 0.0494 - accuracy: 0.9910 - val_loss: 2.0198 - val_accuracy: 0.8930\n"
          ]
        }
      ]
    },
    {
      "cell_type": "code",
      "source": [
        "visualize_metrics(hist2)"
      ],
      "metadata": {
        "colab": {
          "base_uri": "https://localhost:8080/",
          "height": 321
        },
        "id": "i8qD36pm_fy5",
        "outputId": "5f6bc063-5d6e-47a2-a077-f2790d851048"
      },
      "execution_count": 7,
      "outputs": [
        {
          "output_type": "display_data",
          "data": {
            "text/plain": [
              "<Figure size 864x360 with 2 Axes>"
            ],
            "image/png": "[encoded data removed]"
          },
          "metadata": {
            "needs_background": "light"
          }
        }
      ]
    },
    {
      "cell_type": "markdown",
      "source": [
        "At some epoch val_accuracy did reach 90% but over all it's still suffer from overfitting, let's see what we can do"
      ],
      "metadata": {
        "id": "ajNdJ5ljFIHV"
      }
    },
    {
      "cell_type": "markdown",
      "source": [
        "## Defining Callbacks"
      ],
      "metadata": {
        "id": "O72bjKTJGx12"
      }
    },
    {
      "cell_type": "code",
      "source": [
        "# early stop custom callback\n",
        "\n",
        "class myCallback(tf.keras.callbacks.Callback):\n",
        "  def on_epoch_end(self, epoch, logs={}):\n",
        "    if(logs.get('val_accuracy')>0.90):\n",
        "      print(\"\\nReached 90% accuracy so cancelling training!\")\n",
        "      self.model.stop_training = True"
      ],
      "metadata": {
        "id": "tm2y38TTFnSz"
      },
      "execution_count": 7,
      "outputs": []
    },
    {
      "cell_type": "code",
      "source": [
        "cnn_model_2 = tf.keras.models.Sequential([\n",
        "  tf.keras.layers.Conv2D(32, (3,3), input_shape=(28, 28, 1), activation='relu'),\n",
        "  tf.keras.layers.BatchNormalization(),\n",
        "  tf.keras.layers.MaxPooling2D(2,2),\n",
        "  tf.keras.layers.Dropout(0.2),\n",
        "  tf.keras.layers.Conv2D(64, (3,3), activation='relu'),\n",
        "  tf.keras.layers.BatchNormalization(),\n",
        "  tf.keras.layers.MaxPooling2D(2,2),\n",
        "  tf.keras.layers.Dropout(0.2),\n",
        "  tf.keras.layers.Conv2D(128, (3,3), activation='relu'),\n",
        "  tf.keras.layers.BatchNormalization(),\n",
        "  tf.keras.layers.MaxPooling2D(2,2),\n",
        "  tf.keras.layers.Dropout(0.2),\n",
        "  tf.keras.layers.GlobalAveragePooling2D(),\n",
        "  tf.keras.layers.Dense(10, activation='softmax')\n",
        "])\n",
        "cnn_model_2.compile(optimizer='adam', loss='sparse_categorical_crossentropy', metrics=['accuracy'])\n",
        "cnn_model_2.summary()"
      ],
      "metadata": {
        "colab": {
          "base_uri": "https://localhost:8080/"
        },
        "id": "nInBwz0qIkJP",
        "outputId": "d27149e1-6302-43f2-dfb0-8dfacb975310"
      },
      "execution_count": 12,
      "outputs": [
        {
          "output_type": "stream",
          "name": "stdout",
          "text": [
            "Model: \"sequential_1\"\n",
            "_________________________________________________________________\n",
            " Layer (type)                Output Shape              Param #   \n",
            "=================================================================\n",
            " conv2d_3 (Conv2D)           (None, 26, 26, 32)        320       \n",
            "                                                                 \n",
            " batch_normalization_3 (Batc  (None, 26, 26, 32)       128       \n",
            " hNormalization)                                                 \n",
            "                                                                 \n",
            " max_pooling2d_3 (MaxPooling  (None, 13, 13, 32)       0         \n",
            " 2D)                                                             \n",
            "                                                                 \n",
            " dropout_3 (Dropout)         (None, 13, 13, 32)        0         \n",
            "                                                                 \n",
            " conv2d_4 (Conv2D)           (None, 11, 11, 64)        18496     \n",
            "                                                                 \n",
            " batch_normalization_4 (Batc  (None, 11, 11, 64)       256       \n",
            " hNormalization)                                                 \n",
            "                                                                 \n",
            " max_pooling2d_4 (MaxPooling  (None, 5, 5, 64)         0         \n",
            " 2D)                                                             \n",
            "                                                                 \n",
            " dropout_4 (Dropout)         (None, 5, 5, 64)          0         \n",
            "                                                                 \n",
            " conv2d_5 (Conv2D)           (None, 3, 3, 128)         73856     \n",
            "                                                                 \n",
            " batch_normalization_5 (Batc  (None, 3, 3, 128)        512       \n",
            " hNormalization)                                                 \n",
            "                                                                 \n",
            " max_pooling2d_5 (MaxPooling  (None, 1, 1, 128)        0         \n",
            " 2D)                                                             \n",
            "                                                                 \n",
            " dropout_5 (Dropout)         (None, 1, 1, 128)         0         \n",
            "                                                                 \n",
            " global_average_pooling2d_1   (None, 128)              0         \n",
            " (GlobalAveragePooling2D)                                        \n",
            "                                                                 \n",
            " dense_1 (Dense)             (None, 10)                1290      \n",
            "                                                                 \n",
            "=================================================================\n",
            "Total params: 94,858\n",
            "Trainable params: 94,410\n",
            "Non-trainable params: 448\n",
            "_________________________________________________________________\n"
          ]
        }
      ]
    },
    {
      "cell_type": "code",
      "source": [
        "hist4 = cnn_model_2.fit(\n",
        "    training_images, \n",
        "    training_labels, \n",
        "    batch_size=64, \n",
        "    validation_split=0.2, \n",
        "    epochs=100,\n",
        "    callbacks=[myCallback()]\n",
        ")"
      ],
      "metadata": {
        "colab": {
          "base_uri": "https://localhost:8080/"
        },
        "id": "h5kLelbQKiSD",
        "outputId": "466cb639-4303-44d9-eb7c-4bc726bbef5e"
      },
      "execution_count": 9,
      "outputs": [
        {
          "output_type": "stream",
          "name": "stdout",
          "text": [
            "Epoch 1/100\n",
            "  6/750 [..............................] - ETA: 8s - loss: 2.5296 - accuracy: 0.2943   WARNING:tensorflow:Callback method `on_train_batch_end` is slow compared to the batch time (batch time: 0.0048s vs `on_train_batch_end` time: 0.0054s). Check your callbacks.\n",
            "750/750 [==============================] - 12s 14ms/step - loss: 0.6003 - accuracy: 0.7876 - val_loss: 0.4166 - val_accuracy: 0.8515\n",
            "Epoch 2/100\n",
            "750/750 [==============================] - 10s 13ms/step - loss: 0.4190 - accuracy: 0.8474 - val_loss: 0.4075 - val_accuracy: 0.8496\n",
            "Epoch 3/100\n",
            "750/750 [==============================] - 9s 12ms/step - loss: 0.3732 - accuracy: 0.8638 - val_loss: 0.3436 - val_accuracy: 0.8738\n",
            "Epoch 4/100\n",
            "750/750 [==============================] - 10s 13ms/step - loss: 0.3434 - accuracy: 0.8738 - val_loss: 0.3297 - val_accuracy: 0.8799\n",
            "Epoch 5/100\n",
            "750/750 [==============================] - 10s 13ms/step - loss: 0.3260 - accuracy: 0.8811 - val_loss: 0.3151 - val_accuracy: 0.8837\n",
            "Epoch 6/100\n",
            "750/750 [==============================] - 10s 13ms/step - loss: 0.3119 - accuracy: 0.8847 - val_loss: 0.3020 - val_accuracy: 0.8882\n",
            "Epoch 7/100\n",
            "750/750 [==============================] - 9s 12ms/step - loss: 0.3012 - accuracy: 0.8891 - val_loss: 0.3309 - val_accuracy: 0.8769\n",
            "Epoch 8/100\n",
            "750/750 [==============================] - 10s 13ms/step - loss: 0.2928 - accuracy: 0.8925 - val_loss: 0.3122 - val_accuracy: 0.8842\n",
            "Epoch 9/100\n",
            "750/750 [==============================] - 10s 13ms/step - loss: 0.2829 - accuracy: 0.8938 - val_loss: 0.2822 - val_accuracy: 0.8950\n",
            "Epoch 10/100\n",
            "750/750 [==============================] - 10s 13ms/step - loss: 0.2734 - accuracy: 0.8983 - val_loss: 0.3116 - val_accuracy: 0.8834\n",
            "Epoch 11/100\n",
            "750/750 [==============================] - 10s 13ms/step - loss: 0.2688 - accuracy: 0.9010 - val_loss: 0.2837 - val_accuracy: 0.8948\n",
            "Epoch 12/100\n",
            "750/750 [==============================] - 10s 13ms/step - loss: 0.2583 - accuracy: 0.9054 - val_loss: 0.2967 - val_accuracy: 0.8903\n",
            "Epoch 13/100\n",
            "750/750 [==============================] - 10s 13ms/step - loss: 0.2552 - accuracy: 0.9059 - val_loss: 0.2767 - val_accuracy: 0.8993\n",
            "Epoch 14/100\n",
            "750/750 [==============================] - 9s 12ms/step - loss: 0.2453 - accuracy: 0.9092 - val_loss: 0.3127 - val_accuracy: 0.8837\n",
            "Epoch 15/100\n",
            "750/750 [==============================] - 9s 12ms/step - loss: 0.2438 - accuracy: 0.9093 - val_loss: 0.3135 - val_accuracy: 0.8839\n",
            "Epoch 16/100\n",
            "750/750 [==============================] - 10s 13ms/step - loss: 0.2413 - accuracy: 0.9101 - val_loss: 0.2987 - val_accuracy: 0.8932\n",
            "Epoch 17/100\n",
            "749/750 [============================>.] - ETA: 0s - loss: 0.2330 - accuracy: 0.9132\n",
            "Reached 90% accuracy so cancelling training!\n",
            "750/750 [==============================] - 10s 13ms/step - loss: 0.2330 - accuracy: 0.9131 - val_loss: 0.2682 - val_accuracy: 0.9029\n"
          ]
        }
      ]
    },
    {
      "cell_type": "code",
      "source": [
        "visualize_metrics(hist4)"
      ],
      "metadata": {
        "colab": {
          "base_uri": "https://localhost:8080/",
          "height": 320
        },
        "id": "2WzXNjdAKm-p",
        "outputId": "ef9e2138-5a15-4ad9-ae50-5db189d2510e"
      },
      "execution_count": 10,
      "outputs": [
        {
          "output_type": "display_data",
          "data": {
            "text/plain": [
              "<Figure size 864x360 with 2 Axes>"
            ],
            "image/png": "[encoded data removed]"
          },
          "metadata": {
            "needs_background": "light"
          }
        }
      ]
    },
    {
      "cell_type": "markdown",
      "source": [
        "## More Callbacks"
      ],
      "metadata": {
        "id": "9F461Rp4UoTH"
      }
    },
    {
      "cell_type": "code",
      "source": [
        "cnn_model_3 = tf.keras.models.Sequential([\n",
        "  tf.keras.layers.Conv2D(32, (3,3), input_shape=(28, 28, 1), activation='relu'),\n",
        "  tf.keras.layers.BatchNormalization(),\n",
        "  tf.keras.layers.MaxPooling2D(2,2),\n",
        "  tf.keras.layers.Dropout(0.2),\n",
        "  tf.keras.layers.Conv2D(64, (3,3), activation='relu'),\n",
        "  tf.keras.layers.BatchNormalization(),\n",
        "  tf.keras.layers.MaxPooling2D(2,2),\n",
        "  tf.keras.layers.Dropout(0.2),\n",
        "  tf.keras.layers.Conv2D(128, (3,3), activation='relu'),\n",
        "  tf.keras.layers.BatchNormalization(),\n",
        "  tf.keras.layers.MaxPooling2D(2,2),\n",
        "  tf.keras.layers.Dropout(0.2),\n",
        "  tf.keras.layers.GlobalAveragePooling2D(),\n",
        "  tf.keras.layers.Dense(10, activation='softmax')\n",
        "])\n",
        "\n",
        "cnn_model_3.compile(optimizer=tf.keras.optimizers.Adam(1e-2), loss='sparse_categorical_crossentropy', metrics=['accuracy'])\n",
        "cnn_model_3.summary()"
      ],
      "metadata": {
        "colab": {
          "base_uri": "https://localhost:8080/"
        },
        "id": "IBDEFtRAVjht",
        "outputId": "c64a943c-cff6-4a4f-f49a-49b87ad48465"
      },
      "execution_count": 16,
      "outputs": [
        {
          "output_type": "stream",
          "name": "stdout",
          "text": [
            "Model: \"sequential_3\"\n",
            "_________________________________________________________________\n",
            " Layer (type)                Output Shape              Param #   \n",
            "=================================================================\n",
            " conv2d_9 (Conv2D)           (None, 26, 26, 32)        320       \n",
            "                                                                 \n",
            " batch_normalization_9 (Batc  (None, 26, 26, 32)       128       \n",
            " hNormalization)                                                 \n",
            "                                                                 \n",
            " max_pooling2d_9 (MaxPooling  (None, 13, 13, 32)       0         \n",
            " 2D)                                                             \n",
            "                                                                 \n",
            " dropout_9 (Dropout)         (None, 13, 13, 32)        0         \n",
            "                                                                 \n",
            " conv2d_10 (Conv2D)          (None, 11, 11, 64)        18496     \n",
            "                                                                 \n",
            " batch_normalization_10 (Bat  (None, 11, 11, 64)       256       \n",
            " chNormalization)                                                \n",
            "                                                                 \n",
            " max_pooling2d_10 (MaxPoolin  (None, 5, 5, 64)         0         \n",
            " g2D)                                                            \n",
            "                                                                 \n",
            " dropout_10 (Dropout)        (None, 5, 5, 64)          0         \n",
            "                                                                 \n",
            " conv2d_11 (Conv2D)          (None, 3, 3, 128)         73856     \n",
            "                                                                 \n",
            " batch_normalization_11 (Bat  (None, 3, 3, 128)        512       \n",
            " chNormalization)                                                \n",
            "                                                                 \n",
            " max_pooling2d_11 (MaxPoolin  (None, 1, 1, 128)        0         \n",
            " g2D)                                                            \n",
            "                                                                 \n",
            " dropout_11 (Dropout)        (None, 1, 1, 128)         0         \n",
            "                                                                 \n",
            " global_average_pooling2d_3   (None, 128)              0         \n",
            " (GlobalAveragePooling2D)                                        \n",
            "                                                                 \n",
            " dense_3 (Dense)             (None, 10)                1290      \n",
            "                                                                 \n",
            "=================================================================\n",
            "Total params: 94,858\n",
            "Trainable params: 94,410\n",
            "Non-trainable params: 448\n",
            "_________________________________________________________________\n"
          ]
        }
      ]
    },
    {
      "cell_type": "code",
      "source": [
        "early_stop = tf.keras.callbacks.EarlyStopping(monitor=\"val_accuracy\", min_delta=1e-2, patience=10, verbose=1, restore_best_weights=True)\n",
        "reduce_lr_on_plateau = tf.keras.callbacks.ReduceLROnPlateau(monitor=\"val_accuracy\", factor=1e-1, patience=5, verbose=1, min_delta=1e-2)"
      ],
      "metadata": {
        "id": "S4qZ971WKpC5"
      },
      "execution_count": 17,
      "outputs": []
    },
    {
      "cell_type": "code",
      "source": [
        "hist5 = cnn_model_3.fit(\n",
        "    training_images, \n",
        "    training_labels, \n",
        "    batch_size=64, \n",
        "    validation_split=0.2, \n",
        "    epochs=100,\n",
        "    callbacks=[early_stop, reduce_lr_on_plateau]\n",
        ")"
      ],
      "metadata": {
        "colab": {
          "base_uri": "https://localhost:8080/"
        },
        "id": "Pdl1HrHsVWGM",
        "outputId": "a73e3ee9-c5fc-46dd-8eba-6b0252056b92"
      },
      "execution_count": 18,
      "outputs": [
        {
          "output_type": "stream",
          "name": "stdout",
          "text": [
            "Epoch 1/100\n",
            "750/750 [==============================] - 11s 13ms/step - loss: 0.5676 - accuracy: 0.7964 - val_loss: 0.4477 - val_accuracy: 0.8401 - lr: 0.0100\n",
            "Epoch 2/100\n",
            "750/750 [==============================] - 9s 12ms/step - loss: 0.4218 - accuracy: 0.8455 - val_loss: 0.5576 - val_accuracy: 0.8167 - lr: 0.0100\n",
            "Epoch 3/100\n",
            "750/750 [==============================] - 9s 13ms/step - loss: 0.3842 - accuracy: 0.8591 - val_loss: 0.4247 - val_accuracy: 0.8453 - lr: 0.0100\n",
            "Epoch 4/100\n",
            "750/750 [==============================] - 10s 13ms/step - loss: 0.3634 - accuracy: 0.8659 - val_loss: 0.3898 - val_accuracy: 0.8565 - lr: 0.0100\n",
            "Epoch 5/100\n",
            "750/750 [==============================] - 11s 14ms/step - loss: 0.3468 - accuracy: 0.8727 - val_loss: 0.3772 - val_accuracy: 0.8636 - lr: 0.0100\n",
            "Epoch 6/100\n",
            "750/750 [==============================] - 10s 13ms/step - loss: 0.3405 - accuracy: 0.8751 - val_loss: 0.3314 - val_accuracy: 0.8767 - lr: 0.0100\n",
            "Epoch 7/100\n",
            "750/750 [==============================] - 10s 13ms/step - loss: 0.3274 - accuracy: 0.8796 - val_loss: 0.3568 - val_accuracy: 0.8756 - lr: 0.0100\n",
            "Epoch 8/100\n",
            "750/750 [==============================] - 10s 13ms/step - loss: 0.3200 - accuracy: 0.8825 - val_loss: 0.3099 - val_accuracy: 0.8861 - lr: 0.0100\n",
            "Epoch 9/100\n",
            "750/750 [==============================] - 11s 14ms/step - loss: 0.3094 - accuracy: 0.8854 - val_loss: 0.3404 - val_accuracy: 0.8738 - lr: 0.0100\n",
            "Epoch 10/100\n",
            "750/750 [==============================] - 10s 14ms/step - loss: 0.3028 - accuracy: 0.8885 - val_loss: 0.3401 - val_accuracy: 0.8814 - lr: 0.0100\n",
            "Epoch 11/100\n",
            "749/750 [============================>.] - ETA: 0s - loss: 0.2959 - accuracy: 0.8905\n",
            "Epoch 11: ReduceLROnPlateau reducing learning rate to 0.0009999999776482583.\n",
            "750/750 [==============================] - 10s 13ms/step - loss: 0.2959 - accuracy: 0.8905 - val_loss: 0.3217 - val_accuracy: 0.8823 - lr: 0.0100\n",
            "Epoch 12/100\n",
            "750/750 [==============================] - 10s 14ms/step - loss: 0.2459 - accuracy: 0.9079 - val_loss: 0.2658 - val_accuracy: 0.9036 - lr: 1.0000e-03\n",
            "Epoch 13/100\n",
            "750/750 [==============================] - 11s 15ms/step - loss: 0.2385 - accuracy: 0.9107 - val_loss: 0.2643 - val_accuracy: 0.9032 - lr: 1.0000e-03\n",
            "Epoch 14/100\n",
            "750/750 [==============================] - 10s 13ms/step - loss: 0.2309 - accuracy: 0.9141 - val_loss: 0.2614 - val_accuracy: 0.9058 - lr: 1.0000e-03\n",
            "Epoch 15/100\n",
            "750/750 [==============================] - 10s 13ms/step - loss: 0.2280 - accuracy: 0.9163 - val_loss: 0.2634 - val_accuracy: 0.9033 - lr: 1.0000e-03\n",
            "Epoch 16/100\n",
            "750/750 [==============================] - 10s 13ms/step - loss: 0.2211 - accuracy: 0.9176 - val_loss: 0.2586 - val_accuracy: 0.9047 - lr: 1.0000e-03\n",
            "Epoch 17/100\n",
            "750/750 [==============================] - ETA: 0s - loss: 0.2203 - accuracy: 0.9169\n",
            "Epoch 17: ReduceLROnPlateau reducing learning rate to 9.999999310821295e-05.\n",
            "750/750 [==============================] - 9s 12ms/step - loss: 0.2203 - accuracy: 0.9169 - val_loss: 0.2639 - val_accuracy: 0.9030 - lr: 1.0000e-03\n",
            "Epoch 18/100\n",
            "750/750 [==============================] - 9s 12ms/step - loss: 0.2115 - accuracy: 0.9218 - val_loss: 0.2517 - val_accuracy: 0.9063 - lr: 1.0000e-04\n",
            "Epoch 19/100\n",
            "750/750 [==============================] - 9s 12ms/step - loss: 0.2117 - accuracy: 0.9212 - val_loss: 0.2517 - val_accuracy: 0.9066 - lr: 1.0000e-04\n",
            "Epoch 20/100\n",
            "750/750 [==============================] - 9s 12ms/step - loss: 0.2110 - accuracy: 0.9215 - val_loss: 0.2524 - val_accuracy: 0.9080 - lr: 1.0000e-04\n",
            "Epoch 21/100\n",
            "750/750 [==============================] - 10s 13ms/step - loss: 0.2112 - accuracy: 0.9215 - val_loss: 0.2513 - val_accuracy: 0.9083 - lr: 1.0000e-04\n",
            "Epoch 22/100\n",
            "750/750 [==============================] - ETA: 0s - loss: 0.2123 - accuracy: 0.9204Restoring model weights from the end of the best epoch: 12.\n",
            "\n",
            "Epoch 22: ReduceLROnPlateau reducing learning rate to 9.999999019782991e-06.\n",
            "750/750 [==============================] - 9s 12ms/step - loss: 0.2123 - accuracy: 0.9204 - val_loss: 0.2515 - val_accuracy: 0.9086 - lr: 1.0000e-04\n",
            "Epoch 22: early stopping\n"
          ]
        }
      ]
    },
    {
      "cell_type": "code",
      "source": [
        "visualize_metrics(hist5)"
      ],
      "metadata": {
        "colab": {
          "base_uri": "https://localhost:8080/",
          "height": 320
        },
        "id": "x4fum4YyXNY-",
        "outputId": "2453cf6b-b7c6-4393-b681-c9ab551e0836"
      },
      "execution_count": 24,
      "outputs": [
        {
          "output_type": "display_data",
          "data": {
            "text/plain": [
              "<Figure size 864x360 with 2 Axes>"
            ],
            "image/png": "[encoded data removed]"
          },
          "metadata": {
            "needs_background": "light"
          }
        }
      ]
    },
    {
      "cell_type": "code",
      "source": [
        "visualize_learning_rate(hist5)"
      ],
      "metadata": {
        "colab": {
          "base_uri": "https://localhost:8080/",
          "height": 320
        },
        "id": "xaqdWc8MXRTZ",
        "outputId": "19782fb7-fc2b-459e-8348-52285a1da735"
      },
      "execution_count": 32,
      "outputs": [
        {
          "output_type": "display_data",
          "data": {
            "text/plain": [
              "<Figure size 864x360 with 1 Axes>"
            ],
            "image/png": "[encoded data removed]"
          },
          "metadata": {
            "needs_background": "light"
          }
        }
      ]
    },
    {
      "cell_type": "code",
      "source": [
        "prepro_test_image = np.expand_dims(test_image, axis=0)\n",
        "out = cnn_model_3.predict(prepro_test_image)\n",
        "\n",
        "print(out)"
      ],
      "metadata": {
        "colab": {
          "base_uri": "https://localhost:8080/"
        },
        "id": "qJ9NwwSYW6OQ",
        "outputId": "ef77618a-aee6-48aa-a92a-58cbb0de2546"
      },
      "execution_count": 22,
      "outputs": [
        {
          "output_type": "stream",
          "name": "stdout",
          "text": [
            "[[6.4331594e-08 3.8567070e-08 1.9119717e-07 9.9317873e-08 2.9737421e-08\n",
            "  7.0859437e-06 1.4551675e-07 1.8613066e-03 1.7729548e-06 9.9812931e-01]]\n"
          ]
        }
      ]
    },
    {
      "cell_type": "code",
      "source": [
        "predicted_label = np.argmax(out)\n",
        "predicted_conf = out[0][predicted_label]\n",
        "\n",
        "print(f\"predicted: {predicted_label} with confidency {predicted_conf * 100:.2f}%\")"
      ],
      "metadata": {
        "colab": {
          "base_uri": "https://localhost:8080/"
        },
        "id": "SOL4XR6NVt83",
        "outputId": "6d987ad2-ef7f-46c1-9d9d-f9065140c2f5"
      },
      "execution_count": 23,
      "outputs": [
        {
          "output_type": "stream",
          "name": "stdout",
          "text": [
            "predicted: 9 with confidency 99.81%\n"
          ]
        }
      ]
    },
    {
      "cell_type": "markdown",
      "source": [
        "# Move on to Real World Data"
      ],
      "metadata": {
        "id": "Qlh1mc67X6zJ"
      }
    },
    {
      "cell_type": "markdown",
      "source": [
        "Unfortunately real world images out there not simply consist of 28x28 grayscale images. Current commonly used resolution is 1280x720 at least, and can be up to 8K. How can we fit those images into our networks?"
      ],
      "metadata": {
        "id": "q_M3hYvYYEsB"
      }
    },
    {
      "cell_type": "markdown",
      "source": [
        "1. the images os not squared\n",
        "2. the images are now RGB\n",
        "3. the size of our images may not fitted or RAM"
      ],
      "metadata": {
        "id": "ggYkWzHsYbPX"
      }
    },
    {
      "cell_type": "code",
      "source": [
        ""
      ],
      "metadata": {
        "id": "o3xmk1WFXJtc"
      },
      "execution_count": null,
      "outputs": []
    },
    {
      "cell_type": "code",
      "source": [
        ""
      ],
      "metadata": {
        "id": "baApT2g9X5qO"
      },
      "execution_count": null,
      "outputs": []
    }
  ]
}